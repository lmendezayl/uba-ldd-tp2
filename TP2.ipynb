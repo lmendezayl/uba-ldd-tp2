{
  "cells": [
    {
      "cell_type": "markdown",
      "metadata": {
        "id": "view-in-github",
        "colab_type": "text"
      },
      "source": [
        "<a href=\"https://colab.research.google.com/github/lmendezayl/uba-ldd-tp2/blob/main/TP2.ipynb\" target=\"_parent\"><img src=\"https://colab.research.google.com/assets/colab-badge.svg\" alt=\"Open In Colab\"/></a>"
      ]
    },
    {
      "cell_type": "markdown",
      "metadata": {
        "id": "P9thIV0bDZA-"
      },
      "source": [
        "# Trabajo Práctico N°2\n",
        "\n",
        "Integrantes:\n",
        "- Lautaro Evaristo Mendez\n",
        "- Franco Zalazar\n",
        "- Luca Emilio Petrarca"
      ]
    },
    {
      "cell_type": "markdown",
      "metadata": {
        "id": "TozHnBq8pUny"
      },
      "source": [
        "\n",
        "\n",
        "*- In god we trust, all others must bring data.*\n",
        "\n",
        "*W. E. Demings*\n",
        "\n",
        "\n",
        "\n",
        "\n"
      ]
    },
    {
      "cell_type": "code",
      "execution_count": 1,
      "metadata": {
        "id": "I7T0WAVFraop"
      },
      "outputs": [],
      "source": [
        "import numpy as np\n",
        "import pandas as pd\n",
        "import matplotlib.pyplot as plt\n",
        "import seaborn.objects as so\n",
        "import nltk\n",
        "\n",
        "from nltk.corpus import stopwords\n",
        "from nltk.stem import SnowballStemmer\n",
        "from nltk.tokenize import word_tokenize\n",
        "\n",
        "from sklearn.datasets import make_blobs, make_circles\n",
        "from sklearn.preprocessing import MinMaxScaler, StandardScaler\n",
        "from sklearn.cluster import KMeans, DBSCAN\n",
        "from sklearn.feature_extraction.text import TfidfVectorizer, CountVectorizer\n",
        "from sklearn.decomposition import PCA\n",
        "from sklearn.neighbors import KNeighborsClassifier\n",
        "from sklearn.metrics import confusion_matrix, accuracy_score\n",
        "from sklearn.model_selection import train_test_split"
      ]
    },
    {
      "cell_type": "markdown",
      "source": [
        "## Lista de cosas a hacer a fecha 13/6 (actualizar si creen que faltan cosas)\n",
        "- Rehacer las cosas de clustering o mejorarlas tomando un subconjunto de las noticias reducido (sin outliers)\n",
        "- Quizas intentar hacer lo mismo con el de clasificacion: parece que hay algunos puntos que cagan al alogritmos entonces si bien quizas clasifica bien, la visualizacion no es buena."
      ],
      "metadata": {
        "id": "AfNvTzbsVbEA"
      }
    },
    {
      "cell_type": "markdown",
      "metadata": {
        "id": "xwz8P-rpDCbu"
      },
      "source": [
        "## Clustering [4 pts.]\n"
      ]
    },
    {
      "cell_type": "markdown",
      "metadata": {
        "id": "d4Aulx5ypKDU"
      },
      "source": [
        "\n",
        "Nuestro primer objetivo es realizar un agrupamiento de las noticias de deportes por temas. En este caso, no tenemos una respuesta correcta que queremos predecir. Queremos realizar un agrupamiento y ver si podemos identificar temas en los grupos que obtenemos.\n"
      ]
    },
    {
      "cell_type": "markdown",
      "metadata": {
        "id": "F_zzwBezpAQy"
      },
      "source": [
        "\n",
        "**Bag-of-words** Queremos generar primero columnas indicadoras de las palabras que aparecen en el texto, una columna por cada palabra. Este enfoque tan simple tiene el problema de que la misma palabra pero en singular/plural o un verbo en distintos tiempos verbales serían identificados como palabras distintas, y tendríamos demasiadas palabras y pocas repeticiones. Para evitar esto, una técnica común es utilizar las raíces de las palabras (stems). Por ejemplo, las raíces de las palabras ”comida” y ”comer” será ”com” (esto puede generar algunas identificaciones incorrectas pero en general funciona bastante bien). Para obtener las raíces de las palabras vamos a usar SnowballStemmer de la biblioteca nltk. Otro problema es que palabras que funcionan como conectores (por ejemplo because, any, above, ...) no aportan información sobre el contenido del texto y es conveniente eliminarlas. En inglés, en el contexto de modelos de lenguaje, estas palabras se llaman stop words (son palabras que queremos frenar antes de procesar los textos). La biblioteca `nltk` provee un listado de stop words que podemos utilizar.\n"
      ]
    },
    {
      "cell_type": "markdown",
      "metadata": {
        "id": "IWwTB7V_my8n"
      },
      "source": [
        "\n",
        "### Ejercicio 1.\n",
        "Cargar en un DataFrame `df_news` los datos del archivo noticias.csv.\n"
      ]
    },
    {
      "cell_type": "code",
      "execution_count": 2,
      "metadata": {
        "id": "eqkCbXTVr2Ug"
      },
      "outputs": [],
      "source": [
        "# Manejo de load en local u online\n",
        "try:\n",
        "    df_news = pd.read_csv('noticias.csv')\n",
        "except:\n",
        "    df_news = pd.read_csv('https://raw.githubusercontent.com/lmendezayl/uba-ldd-tp2/refs/heads/main/noticias.csv')"
      ]
    },
    {
      "cell_type": "code",
      "execution_count": 3,
      "metadata": {
        "colab": {
          "base_uri": "https://localhost:8080/",
          "height": 144
        },
        "id": "5T7JrLqusVd6",
        "outputId": "ad111e88-0c7b-4bff-e3ca-8ffdbba6a7d9"
      },
      "outputs": [
        {
          "output_type": "execute_result",
          "data": {
            "text/plain": [
              "                               title  \\\n",
              "0  Ad sales boost Time Warner profit   \n",
              "1   Dollar gains on Greenspan speech   \n",
              "2  Yukos unit buyer faces loan claim   \n",
              "\n",
              "                                             content  category  \n",
              "0  Quarterly profits at US media giant TimeWarner...  business  \n",
              "1  The dollar has hit its highest level against t...  business  \n",
              "2  The owners of embattled Russian oil giant Yuko...  business  "
            ],
            "text/html": [
              "\n",
              "  <div id=\"df-7f784abd-ea93-459e-b38f-0a07c8bae051\" class=\"colab-df-container\">\n",
              "    <div>\n",
              "<style scoped>\n",
              "    .dataframe tbody tr th:only-of-type {\n",
              "        vertical-align: middle;\n",
              "    }\n",
              "\n",
              "    .dataframe tbody tr th {\n",
              "        vertical-align: top;\n",
              "    }\n",
              "\n",
              "    .dataframe thead th {\n",
              "        text-align: right;\n",
              "    }\n",
              "</style>\n",
              "<table border=\"1\" class=\"dataframe\">\n",
              "  <thead>\n",
              "    <tr style=\"text-align: right;\">\n",
              "      <th></th>\n",
              "      <th>title</th>\n",
              "      <th>content</th>\n",
              "      <th>category</th>\n",
              "    </tr>\n",
              "  </thead>\n",
              "  <tbody>\n",
              "    <tr>\n",
              "      <th>0</th>\n",
              "      <td>Ad sales boost Time Warner profit</td>\n",
              "      <td>Quarterly profits at US media giant TimeWarner...</td>\n",
              "      <td>business</td>\n",
              "    </tr>\n",
              "    <tr>\n",
              "      <th>1</th>\n",
              "      <td>Dollar gains on Greenspan speech</td>\n",
              "      <td>The dollar has hit its highest level against t...</td>\n",
              "      <td>business</td>\n",
              "    </tr>\n",
              "    <tr>\n",
              "      <th>2</th>\n",
              "      <td>Yukos unit buyer faces loan claim</td>\n",
              "      <td>The owners of embattled Russian oil giant Yuko...</td>\n",
              "      <td>business</td>\n",
              "    </tr>\n",
              "  </tbody>\n",
              "</table>\n",
              "</div>\n",
              "    <div class=\"colab-df-buttons\">\n",
              "\n",
              "  <div class=\"colab-df-container\">\n",
              "    <button class=\"colab-df-convert\" onclick=\"convertToInteractive('df-7f784abd-ea93-459e-b38f-0a07c8bae051')\"\n",
              "            title=\"Convert this dataframe to an interactive table.\"\n",
              "            style=\"display:none;\">\n",
              "\n",
              "  <svg xmlns=\"http://www.w3.org/2000/svg\" height=\"24px\" viewBox=\"0 -960 960 960\">\n",
              "    <path d=\"M120-120v-720h720v720H120Zm60-500h600v-160H180v160Zm220 220h160v-160H400v160Zm0 220h160v-160H400v160ZM180-400h160v-160H180v160Zm440 0h160v-160H620v160ZM180-180h160v-160H180v160Zm440 0h160v-160H620v160Z\"/>\n",
              "  </svg>\n",
              "    </button>\n",
              "\n",
              "  <style>\n",
              "    .colab-df-container {\n",
              "      display:flex;\n",
              "      gap: 12px;\n",
              "    }\n",
              "\n",
              "    .colab-df-convert {\n",
              "      background-color: #E8F0FE;\n",
              "      border: none;\n",
              "      border-radius: 50%;\n",
              "      cursor: pointer;\n",
              "      display: none;\n",
              "      fill: #1967D2;\n",
              "      height: 32px;\n",
              "      padding: 0 0 0 0;\n",
              "      width: 32px;\n",
              "    }\n",
              "\n",
              "    .colab-df-convert:hover {\n",
              "      background-color: #E2EBFA;\n",
              "      box-shadow: 0px 1px 2px rgba(60, 64, 67, 0.3), 0px 1px 3px 1px rgba(60, 64, 67, 0.15);\n",
              "      fill: #174EA6;\n",
              "    }\n",
              "\n",
              "    .colab-df-buttons div {\n",
              "      margin-bottom: 4px;\n",
              "    }\n",
              "\n",
              "    [theme=dark] .colab-df-convert {\n",
              "      background-color: #3B4455;\n",
              "      fill: #D2E3FC;\n",
              "    }\n",
              "\n",
              "    [theme=dark] .colab-df-convert:hover {\n",
              "      background-color: #434B5C;\n",
              "      box-shadow: 0px 1px 3px 1px rgba(0, 0, 0, 0.15);\n",
              "      filter: drop-shadow(0px 1px 2px rgba(0, 0, 0, 0.3));\n",
              "      fill: #FFFFFF;\n",
              "    }\n",
              "  </style>\n",
              "\n",
              "    <script>\n",
              "      const buttonEl =\n",
              "        document.querySelector('#df-7f784abd-ea93-459e-b38f-0a07c8bae051 button.colab-df-convert');\n",
              "      buttonEl.style.display =\n",
              "        google.colab.kernel.accessAllowed ? 'block' : 'none';\n",
              "\n",
              "      async function convertToInteractive(key) {\n",
              "        const element = document.querySelector('#df-7f784abd-ea93-459e-b38f-0a07c8bae051');\n",
              "        const dataTable =\n",
              "          await google.colab.kernel.invokeFunction('convertToInteractive',\n",
              "                                                    [key], {});\n",
              "        if (!dataTable) return;\n",
              "\n",
              "        const docLinkHtml = 'Like what you see? Visit the ' +\n",
              "          '<a target=\"_blank\" href=https://colab.research.google.com/notebooks/data_table.ipynb>data table notebook</a>'\n",
              "          + ' to learn more about interactive tables.';\n",
              "        element.innerHTML = '';\n",
              "        dataTable['output_type'] = 'display_data';\n",
              "        await google.colab.output.renderOutput(dataTable, element);\n",
              "        const docLink = document.createElement('div');\n",
              "        docLink.innerHTML = docLinkHtml;\n",
              "        element.appendChild(docLink);\n",
              "      }\n",
              "    </script>\n",
              "  </div>\n",
              "\n",
              "\n",
              "    <div id=\"df-7e9038b0-b238-43a0-af1d-2e9899e187ea\">\n",
              "      <button class=\"colab-df-quickchart\" onclick=\"quickchart('df-7e9038b0-b238-43a0-af1d-2e9899e187ea')\"\n",
              "                title=\"Suggest charts\"\n",
              "                style=\"display:none;\">\n",
              "\n",
              "<svg xmlns=\"http://www.w3.org/2000/svg\" height=\"24px\"viewBox=\"0 0 24 24\"\n",
              "     width=\"24px\">\n",
              "    <g>\n",
              "        <path d=\"M19 3H5c-1.1 0-2 .9-2 2v14c0 1.1.9 2 2 2h14c1.1 0 2-.9 2-2V5c0-1.1-.9-2-2-2zM9 17H7v-7h2v7zm4 0h-2V7h2v10zm4 0h-2v-4h2v4z\"/>\n",
              "    </g>\n",
              "</svg>\n",
              "      </button>\n",
              "\n",
              "<style>\n",
              "  .colab-df-quickchart {\n",
              "      --bg-color: #E8F0FE;\n",
              "      --fill-color: #1967D2;\n",
              "      --hover-bg-color: #E2EBFA;\n",
              "      --hover-fill-color: #174EA6;\n",
              "      --disabled-fill-color: #AAA;\n",
              "      --disabled-bg-color: #DDD;\n",
              "  }\n",
              "\n",
              "  [theme=dark] .colab-df-quickchart {\n",
              "      --bg-color: #3B4455;\n",
              "      --fill-color: #D2E3FC;\n",
              "      --hover-bg-color: #434B5C;\n",
              "      --hover-fill-color: #FFFFFF;\n",
              "      --disabled-bg-color: #3B4455;\n",
              "      --disabled-fill-color: #666;\n",
              "  }\n",
              "\n",
              "  .colab-df-quickchart {\n",
              "    background-color: var(--bg-color);\n",
              "    border: none;\n",
              "    border-radius: 50%;\n",
              "    cursor: pointer;\n",
              "    display: none;\n",
              "    fill: var(--fill-color);\n",
              "    height: 32px;\n",
              "    padding: 0;\n",
              "    width: 32px;\n",
              "  }\n",
              "\n",
              "  .colab-df-quickchart:hover {\n",
              "    background-color: var(--hover-bg-color);\n",
              "    box-shadow: 0 1px 2px rgba(60, 64, 67, 0.3), 0 1px 3px 1px rgba(60, 64, 67, 0.15);\n",
              "    fill: var(--button-hover-fill-color);\n",
              "  }\n",
              "\n",
              "  .colab-df-quickchart-complete:disabled,\n",
              "  .colab-df-quickchart-complete:disabled:hover {\n",
              "    background-color: var(--disabled-bg-color);\n",
              "    fill: var(--disabled-fill-color);\n",
              "    box-shadow: none;\n",
              "  }\n",
              "\n",
              "  .colab-df-spinner {\n",
              "    border: 2px solid var(--fill-color);\n",
              "    border-color: transparent;\n",
              "    border-bottom-color: var(--fill-color);\n",
              "    animation:\n",
              "      spin 1s steps(1) infinite;\n",
              "  }\n",
              "\n",
              "  @keyframes spin {\n",
              "    0% {\n",
              "      border-color: transparent;\n",
              "      border-bottom-color: var(--fill-color);\n",
              "      border-left-color: var(--fill-color);\n",
              "    }\n",
              "    20% {\n",
              "      border-color: transparent;\n",
              "      border-left-color: var(--fill-color);\n",
              "      border-top-color: var(--fill-color);\n",
              "    }\n",
              "    30% {\n",
              "      border-color: transparent;\n",
              "      border-left-color: var(--fill-color);\n",
              "      border-top-color: var(--fill-color);\n",
              "      border-right-color: var(--fill-color);\n",
              "    }\n",
              "    40% {\n",
              "      border-color: transparent;\n",
              "      border-right-color: var(--fill-color);\n",
              "      border-top-color: var(--fill-color);\n",
              "    }\n",
              "    60% {\n",
              "      border-color: transparent;\n",
              "      border-right-color: var(--fill-color);\n",
              "    }\n",
              "    80% {\n",
              "      border-color: transparent;\n",
              "      border-right-color: var(--fill-color);\n",
              "      border-bottom-color: var(--fill-color);\n",
              "    }\n",
              "    90% {\n",
              "      border-color: transparent;\n",
              "      border-bottom-color: var(--fill-color);\n",
              "    }\n",
              "  }\n",
              "</style>\n",
              "\n",
              "      <script>\n",
              "        async function quickchart(key) {\n",
              "          const quickchartButtonEl =\n",
              "            document.querySelector('#' + key + ' button');\n",
              "          quickchartButtonEl.disabled = true;  // To prevent multiple clicks.\n",
              "          quickchartButtonEl.classList.add('colab-df-spinner');\n",
              "          try {\n",
              "            const charts = await google.colab.kernel.invokeFunction(\n",
              "                'suggestCharts', [key], {});\n",
              "          } catch (error) {\n",
              "            console.error('Error during call to suggestCharts:', error);\n",
              "          }\n",
              "          quickchartButtonEl.classList.remove('colab-df-spinner');\n",
              "          quickchartButtonEl.classList.add('colab-df-quickchart-complete');\n",
              "        }\n",
              "        (() => {\n",
              "          let quickchartButtonEl =\n",
              "            document.querySelector('#df-7e9038b0-b238-43a0-af1d-2e9899e187ea button');\n",
              "          quickchartButtonEl.style.display =\n",
              "            google.colab.kernel.accessAllowed ? 'block' : 'none';\n",
              "        })();\n",
              "      </script>\n",
              "    </div>\n",
              "\n",
              "    </div>\n",
              "  </div>\n"
            ],
            "application/vnd.google.colaboratory.intrinsic+json": {
              "type": "dataframe",
              "variable_name": "df_news",
              "summary": "{\n  \"name\": \"df_news\",\n  \"rows\": 2225,\n  \"fields\": [\n    {\n      \"column\": \"title\",\n      \"properties\": {\n        \"dtype\": \"string\",\n        \"num_unique_values\": 2096,\n        \"samples\": [\n          \"Soaring oil 'hits world economy'\",\n          \"Bollywood DVD fraudster is jailed\",\n          \"Bening makes awards breakthrough\"\n        ],\n        \"semantic_type\": \"\",\n        \"description\": \"\"\n      }\n    },\n    {\n      \"column\": \"content\",\n      \"properties\": {\n        \"dtype\": \"string\",\n        \"num_unique_values\": 2092,\n        \"samples\": [\n          \"Kenya's athletics body has suspended two-time London Marathon runner-up Susan Chepkemei from all competition until the end of the year.\\n \\n Athletics Kenya (AK) issued the ban after Chepkemei failed to turn up for a cross country training camp in Embu. \\\"We have banned her from all local and international competitions,\\\" said AK chief Isaiah Kiplagat. \\\"We shall communicate this decision to the IAAF and all meet directors all over the world.\\\" The 29-year-old finished second to Paula Radcliffe in the 2002 and 2003 London races, and was also edged out in an epic New York Marathon contest last year.\\n \\n But the ban will prevent the two-time world half-marathon silver medallist from challenging Radcliffe at this year's London event in April. Global Sports Communications, Chepkemei's management company, said she had wanted to run in the World Cross Country Championships in March. But AK maintained it was making an example of Chepkemei as a warning to other Kenyan athletes. \\\"We are taking this action in order to salvage our pride,\\\" said Kiplagat. \\\"We have been accused of having no teeth to bite with and that agents are ruling over us.\\\" KA has also threatened three-time women's short-course champion Edith Masai with a similar ban if reports that she feigned injury to avoid running at the cross country world championships are true. Masai missed the national trials in early February, but was included in the provisional team on the proviso that she ran in a regional competition. She failed to run in the event, citing a leg injury.\\n\",\n          \"The soaring cost of oil has hit global economic growth, although world's major economies should weather the storm of price rises, according to the OECD.\\n \\n In its latest bi-annual report, the OECD cut its growth predictions for the world's main industrialised regions. US growth would reach 4.4% in 2004, but fall to 3.3% next year from a previous estimate of 3.7%, the OECD said. However, the Paris-based economics think tank said it believed the global economy could still regain momentum.\\n \\n Forecasts for Japanese growth were also scaled back to 4.0% from 4.4% this year and 2.1% from 2.8% in 2005. But the outlook was worst for the 12-member eurozone bloc, with already sluggish growth forecasts slipping to 1.8% from 2.0% this year and 1.9% from 2.4% in 2005, the OECD said. Overall, the report forecast total growth of 3.6% in 2004 for the 30 member countries of the OECD, slipping to 2.9% next year before recovering to 3.1% in 2006. \\\"There are nonetheless good reasons to believe that despite recent oil price turbulence the world economy will regain momentum in a not-too-distant future,\\\" said Jean-Philippe Cotis, the OECD's chief economist. The price of crude is about 50% higher than it was at the start of 2004, but down on the record high of $55.67 set in late October.\\n \\n A dip in oil prices and improving jobs prospects would improve consumer confidence and spending, the OECD said. \\\"The oil shock is not enormous by historical standards - we have seen worse in the seventies. If the oil price does not rise any further, then we think the shock can be absorbed within the next few quarters,\\\" Vincent Koen, a senior economist with the OECD, told the BBC's World Business Report. \\\"The recovery that was underway, and has been interrupted a bit by the oil shock this year, would then regain momentum in the course of 2005.\\\" China's booming economy and a \\\"spectacular comeback\\\" in Japan - albeit one that has faltered in recent months - would help world economic recovery, the OECD said. \\\"Supported by strong balance sheets and high profits, the recovery of business investment should continue in North America and start in earnest in Europe,\\\" it added. However, the report warned: \\\"It remains to be seen whether continental Europe will play a strong supportive role through a marked upswing of final domestic demand.\\\" The OECD highlighted current depressed household expenditure in Germany and the eurozone's over-reliance on export-led growth.\\n\",\n          \"Consumer electronics giants Hitachi and Matshushita Electric are joining forces to share and develop technology for flat screen televisions.\\n \\n The tie-up comes as the world's top producers are having to contend with falling prices and intense competition. The two Japanese companies will collaborate in research & development, production, marketing and licensing. They said the agreement would enable the two companies to expand the plasma display TV market globally.\\n \\n Plasma display panels are used for large, thin TVs which are replacing old-style televisions. The display market for high-definition televisions is split between models using plasma display panels and others - manufactured by the likes of Sony and Samsung - using liquid-crystal displays (LCDs). The deal will enable Hitachi and Matsushita, which makes Panasonic brand products, to develop new technology and improve their competitiveness. Hitachi recently announced a deal to buy plasma display technology from rival Fujitsu in an effort to strengthen its presence in the market.\\n \\n Separately, Fujitsu announced on Monday that it is quitting the LCD panel market by transferring its operations in the area to Japanese manufacturer Sharp. Sharp will inherit staff, manufacturing facilities and intellectual property from Fujitsu. The plasma panel market has seen rapid consolidation in recent months as the price of consumer electronic goods and components has fallen. Samsung Electronics and Sony are among other companies working together to reduce costs and speed up new product development.\\n\"\n        ],\n        \"semantic_type\": \"\",\n        \"description\": \"\"\n      }\n    },\n    {\n      \"column\": \"category\",\n      \"properties\": {\n        \"dtype\": \"category\",\n        \"num_unique_values\": 5,\n        \"samples\": [\n          \"entertainment\",\n          \"tech\",\n          \"politics\"\n        ],\n        \"semantic_type\": \"\",\n        \"description\": \"\"\n      }\n    }\n  ]\n}"
            }
          },
          "metadata": {},
          "execution_count": 3
        }
      ],
      "source": [
        "# Mostramos el dataframe\n",
        "df_news.head(3)"
      ]
    },
    {
      "cell_type": "markdown",
      "metadata": {
        "id": "FEGfrNczm0DU"
      },
      "source": [
        "\n",
        "### Ejercicio 2.\n",
        "Crear un DataFrame `df_sports` que contenga solo las noticias de la categoría deportes, y resetear los índices.\n"
      ]
    },
    {
      "cell_type": "markdown",
      "metadata": {
        "id": "lc66np26sggV"
      },
      "source": [
        "Veamos como se llaman especificamente las categorias."
      ]
    },
    {
      "cell_type": "code",
      "execution_count": 4,
      "metadata": {
        "colab": {
          "base_uri": "https://localhost:8080/"
        },
        "id": "VfYxgwwNsa-0",
        "outputId": "8f682e54-4c72-47f8-ee6c-1f1a72f08e47"
      },
      "outputs": [
        {
          "output_type": "execute_result",
          "data": {
            "text/plain": [
              "array(['business', 'entertainment', 'politics', 'sport', 'tech'],\n",
              "      dtype=object)"
            ]
          },
          "metadata": {},
          "execution_count": 4
        }
      ],
      "source": [
        "df_news.category.unique()"
      ]
    },
    {
      "cell_type": "markdown",
      "metadata": {
        "id": "r8s4rbIFsj7E"
      },
      "source": [
        "Elegimos las noticias que pide el ejericio."
      ]
    },
    {
      "cell_type": "code",
      "execution_count": 5,
      "metadata": {
        "colab": {
          "base_uri": "https://localhost:8080/",
          "height": 144
        },
        "id": "R4cTVdZytfD5",
        "outputId": "50f154fd-b555-426d-a038-03db849f2267"
      },
      "outputs": [
        {
          "output_type": "execute_result",
          "data": {
            "text/plain": [
              "                               title  \\\n",
              "0  Claxton hunting first major medal   \n",
              "1     O'Sullivan could run in Worlds   \n",
              "2  Greene sets sights on world title   \n",
              "\n",
              "                                             content category  \n",
              "0  British hurdler Sarah Claxton is confident she...    sport  \n",
              "1  Sonia O'Sullivan has indicated that she would ...    sport  \n",
              "2  Maurice Greene aims to wipe out the pain of lo...    sport  "
            ],
            "text/html": [
              "\n",
              "  <div id=\"df-e0d666b4-b676-4090-9e10-d35530606738\" class=\"colab-df-container\">\n",
              "    <div>\n",
              "<style scoped>\n",
              "    .dataframe tbody tr th:only-of-type {\n",
              "        vertical-align: middle;\n",
              "    }\n",
              "\n",
              "    .dataframe tbody tr th {\n",
              "        vertical-align: top;\n",
              "    }\n",
              "\n",
              "    .dataframe thead th {\n",
              "        text-align: right;\n",
              "    }\n",
              "</style>\n",
              "<table border=\"1\" class=\"dataframe\">\n",
              "  <thead>\n",
              "    <tr style=\"text-align: right;\">\n",
              "      <th></th>\n",
              "      <th>title</th>\n",
              "      <th>content</th>\n",
              "      <th>category</th>\n",
              "    </tr>\n",
              "  </thead>\n",
              "  <tbody>\n",
              "    <tr>\n",
              "      <th>0</th>\n",
              "      <td>Claxton hunting first major medal</td>\n",
              "      <td>British hurdler Sarah Claxton is confident she...</td>\n",
              "      <td>sport</td>\n",
              "    </tr>\n",
              "    <tr>\n",
              "      <th>1</th>\n",
              "      <td>O'Sullivan could run in Worlds</td>\n",
              "      <td>Sonia O'Sullivan has indicated that she would ...</td>\n",
              "      <td>sport</td>\n",
              "    </tr>\n",
              "    <tr>\n",
              "      <th>2</th>\n",
              "      <td>Greene sets sights on world title</td>\n",
              "      <td>Maurice Greene aims to wipe out the pain of lo...</td>\n",
              "      <td>sport</td>\n",
              "    </tr>\n",
              "  </tbody>\n",
              "</table>\n",
              "</div>\n",
              "    <div class=\"colab-df-buttons\">\n",
              "\n",
              "  <div class=\"colab-df-container\">\n",
              "    <button class=\"colab-df-convert\" onclick=\"convertToInteractive('df-e0d666b4-b676-4090-9e10-d35530606738')\"\n",
              "            title=\"Convert this dataframe to an interactive table.\"\n",
              "            style=\"display:none;\">\n",
              "\n",
              "  <svg xmlns=\"http://www.w3.org/2000/svg\" height=\"24px\" viewBox=\"0 -960 960 960\">\n",
              "    <path d=\"M120-120v-720h720v720H120Zm60-500h600v-160H180v160Zm220 220h160v-160H400v160Zm0 220h160v-160H400v160ZM180-400h160v-160H180v160Zm440 0h160v-160H620v160ZM180-180h160v-160H180v160Zm440 0h160v-160H620v160Z\"/>\n",
              "  </svg>\n",
              "    </button>\n",
              "\n",
              "  <style>\n",
              "    .colab-df-container {\n",
              "      display:flex;\n",
              "      gap: 12px;\n",
              "    }\n",
              "\n",
              "    .colab-df-convert {\n",
              "      background-color: #E8F0FE;\n",
              "      border: none;\n",
              "      border-radius: 50%;\n",
              "      cursor: pointer;\n",
              "      display: none;\n",
              "      fill: #1967D2;\n",
              "      height: 32px;\n",
              "      padding: 0 0 0 0;\n",
              "      width: 32px;\n",
              "    }\n",
              "\n",
              "    .colab-df-convert:hover {\n",
              "      background-color: #E2EBFA;\n",
              "      box-shadow: 0px 1px 2px rgba(60, 64, 67, 0.3), 0px 1px 3px 1px rgba(60, 64, 67, 0.15);\n",
              "      fill: #174EA6;\n",
              "    }\n",
              "\n",
              "    .colab-df-buttons div {\n",
              "      margin-bottom: 4px;\n",
              "    }\n",
              "\n",
              "    [theme=dark] .colab-df-convert {\n",
              "      background-color: #3B4455;\n",
              "      fill: #D2E3FC;\n",
              "    }\n",
              "\n",
              "    [theme=dark] .colab-df-convert:hover {\n",
              "      background-color: #434B5C;\n",
              "      box-shadow: 0px 1px 3px 1px rgba(0, 0, 0, 0.15);\n",
              "      filter: drop-shadow(0px 1px 2px rgba(0, 0, 0, 0.3));\n",
              "      fill: #FFFFFF;\n",
              "    }\n",
              "  </style>\n",
              "\n",
              "    <script>\n",
              "      const buttonEl =\n",
              "        document.querySelector('#df-e0d666b4-b676-4090-9e10-d35530606738 button.colab-df-convert');\n",
              "      buttonEl.style.display =\n",
              "        google.colab.kernel.accessAllowed ? 'block' : 'none';\n",
              "\n",
              "      async function convertToInteractive(key) {\n",
              "        const element = document.querySelector('#df-e0d666b4-b676-4090-9e10-d35530606738');\n",
              "        const dataTable =\n",
              "          await google.colab.kernel.invokeFunction('convertToInteractive',\n",
              "                                                    [key], {});\n",
              "        if (!dataTable) return;\n",
              "\n",
              "        const docLinkHtml = 'Like what you see? Visit the ' +\n",
              "          '<a target=\"_blank\" href=https://colab.research.google.com/notebooks/data_table.ipynb>data table notebook</a>'\n",
              "          + ' to learn more about interactive tables.';\n",
              "        element.innerHTML = '';\n",
              "        dataTable['output_type'] = 'display_data';\n",
              "        await google.colab.output.renderOutput(dataTable, element);\n",
              "        const docLink = document.createElement('div');\n",
              "        docLink.innerHTML = docLinkHtml;\n",
              "        element.appendChild(docLink);\n",
              "      }\n",
              "    </script>\n",
              "  </div>\n",
              "\n",
              "\n",
              "    <div id=\"df-a9ecba7f-752e-4123-be62-66a50bd4928d\">\n",
              "      <button class=\"colab-df-quickchart\" onclick=\"quickchart('df-a9ecba7f-752e-4123-be62-66a50bd4928d')\"\n",
              "                title=\"Suggest charts\"\n",
              "                style=\"display:none;\">\n",
              "\n",
              "<svg xmlns=\"http://www.w3.org/2000/svg\" height=\"24px\"viewBox=\"0 0 24 24\"\n",
              "     width=\"24px\">\n",
              "    <g>\n",
              "        <path d=\"M19 3H5c-1.1 0-2 .9-2 2v14c0 1.1.9 2 2 2h14c1.1 0 2-.9 2-2V5c0-1.1-.9-2-2-2zM9 17H7v-7h2v7zm4 0h-2V7h2v10zm4 0h-2v-4h2v4z\"/>\n",
              "    </g>\n",
              "</svg>\n",
              "      </button>\n",
              "\n",
              "<style>\n",
              "  .colab-df-quickchart {\n",
              "      --bg-color: #E8F0FE;\n",
              "      --fill-color: #1967D2;\n",
              "      --hover-bg-color: #E2EBFA;\n",
              "      --hover-fill-color: #174EA6;\n",
              "      --disabled-fill-color: #AAA;\n",
              "      --disabled-bg-color: #DDD;\n",
              "  }\n",
              "\n",
              "  [theme=dark] .colab-df-quickchart {\n",
              "      --bg-color: #3B4455;\n",
              "      --fill-color: #D2E3FC;\n",
              "      --hover-bg-color: #434B5C;\n",
              "      --hover-fill-color: #FFFFFF;\n",
              "      --disabled-bg-color: #3B4455;\n",
              "      --disabled-fill-color: #666;\n",
              "  }\n",
              "\n",
              "  .colab-df-quickchart {\n",
              "    background-color: var(--bg-color);\n",
              "    border: none;\n",
              "    border-radius: 50%;\n",
              "    cursor: pointer;\n",
              "    display: none;\n",
              "    fill: var(--fill-color);\n",
              "    height: 32px;\n",
              "    padding: 0;\n",
              "    width: 32px;\n",
              "  }\n",
              "\n",
              "  .colab-df-quickchart:hover {\n",
              "    background-color: var(--hover-bg-color);\n",
              "    box-shadow: 0 1px 2px rgba(60, 64, 67, 0.3), 0 1px 3px 1px rgba(60, 64, 67, 0.15);\n",
              "    fill: var(--button-hover-fill-color);\n",
              "  }\n",
              "\n",
              "  .colab-df-quickchart-complete:disabled,\n",
              "  .colab-df-quickchart-complete:disabled:hover {\n",
              "    background-color: var(--disabled-bg-color);\n",
              "    fill: var(--disabled-fill-color);\n",
              "    box-shadow: none;\n",
              "  }\n",
              "\n",
              "  .colab-df-spinner {\n",
              "    border: 2px solid var(--fill-color);\n",
              "    border-color: transparent;\n",
              "    border-bottom-color: var(--fill-color);\n",
              "    animation:\n",
              "      spin 1s steps(1) infinite;\n",
              "  }\n",
              "\n",
              "  @keyframes spin {\n",
              "    0% {\n",
              "      border-color: transparent;\n",
              "      border-bottom-color: var(--fill-color);\n",
              "      border-left-color: var(--fill-color);\n",
              "    }\n",
              "    20% {\n",
              "      border-color: transparent;\n",
              "      border-left-color: var(--fill-color);\n",
              "      border-top-color: var(--fill-color);\n",
              "    }\n",
              "    30% {\n",
              "      border-color: transparent;\n",
              "      border-left-color: var(--fill-color);\n",
              "      border-top-color: var(--fill-color);\n",
              "      border-right-color: var(--fill-color);\n",
              "    }\n",
              "    40% {\n",
              "      border-color: transparent;\n",
              "      border-right-color: var(--fill-color);\n",
              "      border-top-color: var(--fill-color);\n",
              "    }\n",
              "    60% {\n",
              "      border-color: transparent;\n",
              "      border-right-color: var(--fill-color);\n",
              "    }\n",
              "    80% {\n",
              "      border-color: transparent;\n",
              "      border-right-color: var(--fill-color);\n",
              "      border-bottom-color: var(--fill-color);\n",
              "    }\n",
              "    90% {\n",
              "      border-color: transparent;\n",
              "      border-bottom-color: var(--fill-color);\n",
              "    }\n",
              "  }\n",
              "</style>\n",
              "\n",
              "      <script>\n",
              "        async function quickchart(key) {\n",
              "          const quickchartButtonEl =\n",
              "            document.querySelector('#' + key + ' button');\n",
              "          quickchartButtonEl.disabled = true;  // To prevent multiple clicks.\n",
              "          quickchartButtonEl.classList.add('colab-df-spinner');\n",
              "          try {\n",
              "            const charts = await google.colab.kernel.invokeFunction(\n",
              "                'suggestCharts', [key], {});\n",
              "          } catch (error) {\n",
              "            console.error('Error during call to suggestCharts:', error);\n",
              "          }\n",
              "          quickchartButtonEl.classList.remove('colab-df-spinner');\n",
              "          quickchartButtonEl.classList.add('colab-df-quickchart-complete');\n",
              "        }\n",
              "        (() => {\n",
              "          let quickchartButtonEl =\n",
              "            document.querySelector('#df-a9ecba7f-752e-4123-be62-66a50bd4928d button');\n",
              "          quickchartButtonEl.style.display =\n",
              "            google.colab.kernel.accessAllowed ? 'block' : 'none';\n",
              "        })();\n",
              "      </script>\n",
              "    </div>\n",
              "\n",
              "    </div>\n",
              "  </div>\n"
            ],
            "application/vnd.google.colaboratory.intrinsic+json": {
              "type": "dataframe",
              "variable_name": "df_sports",
              "summary": "{\n  \"name\": \"df_sports\",\n  \"rows\": 511,\n  \"fields\": [\n    {\n      \"column\": \"title\",\n      \"properties\": {\n        \"dtype\": \"string\",\n        \"num_unique_values\": 500,\n        \"samples\": [\n          \"South Africa sweep top awards\",\n          \"Gardener wins double in Glasgow\",\n          \"Barbarians 19-47 New Zealand\"\n        ],\n        \"semantic_type\": \"\",\n        \"description\": \"\"\n      }\n    },\n    {\n      \"column\": \"content\",\n      \"properties\": {\n        \"dtype\": \"string\",\n        \"num_unique_values\": 494,\n        \"samples\": [\n          \"Tim Henman opened his 2005 campaign with a 6-1 7-5 victory over Argentine David Nalbandian at the Kooyong Classic exhibition tournament on Wednesday.\\n \\n The British number one will next play Roger Federer at the Australian Open warm-up event on Friday. The world number one beat Gaston Gaudio 5-7 6-1 6-4, before Andre Agassi saw off Chilean Olympic gold medalist Nicolas Massu 6-1 7-6 (7-4). Andy Roddick beat Ivan Ljubicic, who replaced Paradorn Srichaphan, 6-1 6-4. Henman made an impressive start to the year, only faltering against Nalbandian when serving for the match at 5-4. But the Briton regained his composure to win the next two games for only his second win in six matches against the Argentine. \\\"It's a great start to the year - just what I was looking for,\\\" Henman told his website. \\\"Over the years I've found David very difficult to play against.\\n \\n \\\"He returns serve very well and he's deceptively effective from the baseline, so sometimes it can be difficult to execute my gameplan well enough against him to get the right result. \\\"Beating somebody of his stature is always good for the confidence and it bodes well at the beginning of the year.\\\" Henman also revealed the extent of the back problems he suffered in the off-season. \\\"I'm not the most flexible and at the end of the year I was pretty exhausted and wanted to have a couple of weeks where I didn't do anything,\\\" said Henman. \\\"When I started training again it really, really seized up. As much as I enjoyed the two weeks off I don't think it's so productive.\\\" Federer dropped a tight first set against 2004 French Open champion Gaudio, but was content with his game. \\\"It was about getting used to the surface,\\\" he said.\\n \\n \\\"The conditions are much quicker than Doha, my timing was OK, but I could have served better. \\\"All in all I'm happy with the match, and I won it - that's a good sign. Now I have a day off and hopefully play better the next match.\\\" Agassi was delighted with victory over Massu in his first match for over two months. \\\"I felt pretty good,\\\" said the American. \\\"I liked the way the match played out and, maybe excluding a few second serve returns, I felt like I was doing most things pretty darn well for the first match.\\\"\\n\",\n          \"Britain's Jason Gardener enjoyed a double 60m success in Glasgow in his first competitive outing since he won 100m relay gold at the Athens Olympics.\\n \\n Gardener cruised home ahead of Scot Nick Smith to win the invitational race at the Norwich Union International. He then recovered from a poor start in the second race to beat Swede Daniel Persson and Italy's Luca Verdecchia. His times of 6.61 and 6.62 seconds were well short of American Maurice Greene's 60m world record of 6.39secs from 1998. \\\"It's a very hard record to break, but I believe I've trained very well,\\\" said the world indoor champion, who hopes to get closer to the mark this season. \\\"It was important to come out and make sure I got maximum points. My last race was the Olympic final and there was a lot of expectation. \\\"This was just what I needed to sharpen up and get some race fitness. I'm very excited about the next couple of months.\\\"\\n \\n Double Olympic champion\\n \\n marked her first appearance on home soil since winning 1500m and 800m gold in Athens with a victory. There was a third success for Britain when\\n \\n edged out Russia's Olga Fedorova and Sweden's Jenny Kallur to win the women's 60m race in 7.23secs. Maduaka was unable to repeat the feat in the 200m, finishing down in fourth as\\n \\n took the win for Russia. And the 31-year-old also missed out on a podium place in the 4x200m relay as the British quartet came in fourth, with Russia setting a new world indoor record. There was a setback for Jade Johnson as she suffered a recurrence of her back injury in the long jump. Russia won the meeting with a final total of 63 points, with Britain second on 48 and France one point behind in third.\\n \\n led the way for Russia by producing a major shock in the high jump as he beat Olympic champion Stefan Holm into second place to end the Swede's 22-event unbeaten record.\\n \\n won the triple jump with a leap of 16.87m, with Britain's Tosin Oke fourth in 15.80m.\\n \\n won the men's pole vault competition with a clearance of 5.65m, with Britain's Nick Buckfield 51cm adrift of his personal best in third. And\\n \\n won the women's 800m, with Britain's Jenny Meadows third. There was yet another Russian victory in the women's 400m as\\n \\n finished well clear of Britain's Catherine Murphy. Chris Lambert had to settle for fourth after fading in the closing stages of the men's 200m race as Sweden's\\n \\n held off Leslie Djhone of France. France's\\n \\n won the men's 400m, with Brett Rund fourth for Britain.\\n \\n took victory for Sweden in the women's 60m hurdles ahead of Russia's Irina Shevchenko and Britain's Sarah Claxton, who set a new personal best. Italy grabbed their first victory in the men's 1500m as\\n \\n kicked over the last 200 metres to hold off Britain's James Thie and France's Alexis Abraham. A botched changeover in the 4x200m relay cost Britain's men the chance to add further points as France claimed victory.\\n\",\n          \"Defiant Matt Williams says he will not quit as Scotland coach even if his side slump to a new low with defeat by Italy at Murrayfield.\\n \\n That would leave the Scots as favourites to win the Wooden Spoon for the second year running. \\\"I have never quit anything in my life, apart from maybe painting the kitchen,\\\" he told BBC Sport. \\\"The support we have been given from Murrayfield in my whole time here has been 100%.\\\" Williams has yet to experience an RBS Six Nations victory after seven attempts and Scotland have lost 12 of their 14 games under his leadership. But he rejected the comparison made in some media sources with Berti Vogts, recently sacked as Scotland football manager after a poor run of results.\\n \\n \\\"How can a German football coach and an Australian rugby coach have anything in common?\\\" he asked. \\\"It is a bizarre analogy. It is so absurd that it borders on the humorous.\\\" Williams insists that he is revelling in the pressure, despite the possibility of a second Six Nations series without a victory. \\\"That is not beyond the realms of possibility,\\\" he admitted. \\\"There's nothing much between the teams, so we could win the next three games or lose them. \\\"But I actually really enjoy seeing how you cope with such pressure as a coach. \\\"It helps the team grow and helps you grow as a coach. \\\"We could have won in Paris but for the last five minutes and now we have two defeats, but we were confident for those two first games and we are confident we can beat Italy too.\\\"\\n\"\n        ],\n        \"semantic_type\": \"\",\n        \"description\": \"\"\n      }\n    },\n    {\n      \"column\": \"category\",\n      \"properties\": {\n        \"dtype\": \"category\",\n        \"num_unique_values\": 1,\n        \"samples\": [\n          \"sport\"\n        ],\n        \"semantic_type\": \"\",\n        \"description\": \"\"\n      }\n    }\n  ]\n}"
            }
          },
          "metadata": {},
          "execution_count": 5
        }
      ],
      "source": [
        "df_sports = df_news[df_news['category'] == 'sport'].reset_index().drop(columns='index')\n",
        "df_sports.head(3)"
      ]
    },
    {
      "cell_type": "markdown",
      "metadata": {
        "id": "9zi3aHmwm1Lk"
      },
      "source": [
        "\n",
        "### Ejercicio 3.\n",
        "Generar un DataFrame `df_sports_stems` que contenga una columna por cada stem que aparece en los contenidos de las noticias de deportes, excluyendo las stop words. Para cada noticia, cada columna indica la cantidad de veces que aparece esa palabra en la noticia. Pueden utilizar el siguiente código.\n"
      ]
    },
    {
      "cell_type": "code",
      "execution_count": 7,
      "metadata": {
        "colab": {
          "base_uri": "https://localhost:8080/"
        },
        "id": "3F_l_AMsiYNr",
        "outputId": "5b4502bd-bb30-4ac0-bd28-32eb945ff6b8"
      },
      "outputs": [
        {
          "output_type": "stream",
          "name": "stderr",
          "text": [
            "[nltk_data] Downloading package stopwords to /root/nltk_data...\n",
            "[nltk_data]   Package stopwords is already up-to-date!\n",
            "[nltk_data] Downloading package punkt to /root/nltk_data...\n",
            "[nltk_data]   Package punkt is already up-to-date!\n",
            "[nltk_data] Downloading package punkt_tab to /root/nltk_data...\n",
            "[nltk_data]   Unzipping tokenizers/punkt_tab.zip.\n"
          ]
        }
      ],
      "source": [
        "nltk.download(\"stopwords\")\n",
        "nltk.download('punkt')  #Nota para los muchachos: decia punkt_tab pero a mi me corrio una vez que saque el tab. Atte: Luca.\n",
        "nltk.download('punkt_tab') # si no dice tab no me funciona a mi. -L\n",
        "\n",
        "stop_words = set(stopwords.words(\"english\"))\n",
        "stemmer = SnowballStemmer(language = \"english\")\n",
        "# Generamos una lista con todos los stems de palabras del texto\n",
        "# (excluyendo stop words y palabras que tienen numeros o simbolos)\n",
        "\n",
        "def tokenize_and_stem(text):\n",
        "    tokens = word_tokenize(text.lower())\n",
        "    stems = [stemmer.stem(token) for token in tokens if (token.isalpha() and token not in stop_words)]\n",
        "    return stems\n",
        "vectorizer = CountVectorizer(analyzer=tokenize_and_stem)\n",
        "X = vectorizer.fit_transform(df_sports[\"content\"])\n",
        "df_sports_stems = pd.DataFrame(X.toarray(), columns=vectorizer.get_feature_names_out())"
      ]
    },
    {
      "cell_type": "markdown",
      "metadata": {
        "id": "y6eLmH633pxG"
      },
      "source": [
        "Visualizamos `df_sports_stems`"
      ]
    },
    {
      "cell_type": "code",
      "execution_count": 8,
      "metadata": {
        "colab": {
          "base_uri": "https://localhost:8080/",
          "height": 253
        },
        "id": "xblapfsE3ude",
        "outputId": "77850b64-2012-424e-d7ab-5a0bb20544b8"
      },
      "outputs": [
        {
          "output_type": "stream",
          "name": "stdout",
          "text": [
            "(511, 7193)\n"
          ]
        },
        {
          "output_type": "execute_result",
          "data": {
            "text/plain": [
              "   aaa  aac  aaron  abandon  abat  abbott  abc  abdomen  abdomin  abeb  ...  \\\n",
              "0    1    0      0        0     0       0    0        0        0     0  ...   \n",
              "1    0    0      0        0     0       0    0        0        0     0  ...   \n",
              "2    0    0      0        0     0       0    0        0        0     0  ...   \n",
              "3    0    0      0        0     0       0    0        0        0     0  ...   \n",
              "4    0    0      0        0     0       0    0        0        0     0  ...   \n",
              "\n",
              "   zimbabw  zinc  zinedin  zoe  zola  zone  zornotza  zuluaga  zurich  \\\n",
              "0        0     0        0    0     0     0         0        0       0   \n",
              "1        0     0        0    0     0     0         0        0       0   \n",
              "2        0     0        0    0     0     0         0        0       0   \n",
              "3        0     0        0    0     0     0         0        0       0   \n",
              "4        0     0        0    0     0     0         0        0       0   \n",
              "\n",
              "   zvonareva  \n",
              "0          0  \n",
              "1          0  \n",
              "2          0  \n",
              "3          0  \n",
              "4          0  \n",
              "\n",
              "[5 rows x 7193 columns]"
            ],
            "text/html": [
              "\n",
              "  <div id=\"df-fe97182a-57f9-427a-ba75-4409fb32871f\" class=\"colab-df-container\">\n",
              "    <div>\n",
              "<style scoped>\n",
              "    .dataframe tbody tr th:only-of-type {\n",
              "        vertical-align: middle;\n",
              "    }\n",
              "\n",
              "    .dataframe tbody tr th {\n",
              "        vertical-align: top;\n",
              "    }\n",
              "\n",
              "    .dataframe thead th {\n",
              "        text-align: right;\n",
              "    }\n",
              "</style>\n",
              "<table border=\"1\" class=\"dataframe\">\n",
              "  <thead>\n",
              "    <tr style=\"text-align: right;\">\n",
              "      <th></th>\n",
              "      <th>aaa</th>\n",
              "      <th>aac</th>\n",
              "      <th>aaron</th>\n",
              "      <th>abandon</th>\n",
              "      <th>abat</th>\n",
              "      <th>abbott</th>\n",
              "      <th>abc</th>\n",
              "      <th>abdomen</th>\n",
              "      <th>abdomin</th>\n",
              "      <th>abeb</th>\n",
              "      <th>...</th>\n",
              "      <th>zimbabw</th>\n",
              "      <th>zinc</th>\n",
              "      <th>zinedin</th>\n",
              "      <th>zoe</th>\n",
              "      <th>zola</th>\n",
              "      <th>zone</th>\n",
              "      <th>zornotza</th>\n",
              "      <th>zuluaga</th>\n",
              "      <th>zurich</th>\n",
              "      <th>zvonareva</th>\n",
              "    </tr>\n",
              "  </thead>\n",
              "  <tbody>\n",
              "    <tr>\n",
              "      <th>0</th>\n",
              "      <td>1</td>\n",
              "      <td>0</td>\n",
              "      <td>0</td>\n",
              "      <td>0</td>\n",
              "      <td>0</td>\n",
              "      <td>0</td>\n",
              "      <td>0</td>\n",
              "      <td>0</td>\n",
              "      <td>0</td>\n",
              "      <td>0</td>\n",
              "      <td>...</td>\n",
              "      <td>0</td>\n",
              "      <td>0</td>\n",
              "      <td>0</td>\n",
              "      <td>0</td>\n",
              "      <td>0</td>\n",
              "      <td>0</td>\n",
              "      <td>0</td>\n",
              "      <td>0</td>\n",
              "      <td>0</td>\n",
              "      <td>0</td>\n",
              "    </tr>\n",
              "    <tr>\n",
              "      <th>1</th>\n",
              "      <td>0</td>\n",
              "      <td>0</td>\n",
              "      <td>0</td>\n",
              "      <td>0</td>\n",
              "      <td>0</td>\n",
              "      <td>0</td>\n",
              "      <td>0</td>\n",
              "      <td>0</td>\n",
              "      <td>0</td>\n",
              "      <td>0</td>\n",
              "      <td>...</td>\n",
              "      <td>0</td>\n",
              "      <td>0</td>\n",
              "      <td>0</td>\n",
              "      <td>0</td>\n",
              "      <td>0</td>\n",
              "      <td>0</td>\n",
              "      <td>0</td>\n",
              "      <td>0</td>\n",
              "      <td>0</td>\n",
              "      <td>0</td>\n",
              "    </tr>\n",
              "    <tr>\n",
              "      <th>2</th>\n",
              "      <td>0</td>\n",
              "      <td>0</td>\n",
              "      <td>0</td>\n",
              "      <td>0</td>\n",
              "      <td>0</td>\n",
              "      <td>0</td>\n",
              "      <td>0</td>\n",
              "      <td>0</td>\n",
              "      <td>0</td>\n",
              "      <td>0</td>\n",
              "      <td>...</td>\n",
              "      <td>0</td>\n",
              "      <td>0</td>\n",
              "      <td>0</td>\n",
              "      <td>0</td>\n",
              "      <td>0</td>\n",
              "      <td>0</td>\n",
              "      <td>0</td>\n",
              "      <td>0</td>\n",
              "      <td>0</td>\n",
              "      <td>0</td>\n",
              "    </tr>\n",
              "    <tr>\n",
              "      <th>3</th>\n",
              "      <td>0</td>\n",
              "      <td>0</td>\n",
              "      <td>0</td>\n",
              "      <td>0</td>\n",
              "      <td>0</td>\n",
              "      <td>0</td>\n",
              "      <td>0</td>\n",
              "      <td>0</td>\n",
              "      <td>0</td>\n",
              "      <td>0</td>\n",
              "      <td>...</td>\n",
              "      <td>0</td>\n",
              "      <td>0</td>\n",
              "      <td>0</td>\n",
              "      <td>0</td>\n",
              "      <td>0</td>\n",
              "      <td>0</td>\n",
              "      <td>0</td>\n",
              "      <td>0</td>\n",
              "      <td>0</td>\n",
              "      <td>0</td>\n",
              "    </tr>\n",
              "    <tr>\n",
              "      <th>4</th>\n",
              "      <td>0</td>\n",
              "      <td>0</td>\n",
              "      <td>0</td>\n",
              "      <td>0</td>\n",
              "      <td>0</td>\n",
              "      <td>0</td>\n",
              "      <td>0</td>\n",
              "      <td>0</td>\n",
              "      <td>0</td>\n",
              "      <td>0</td>\n",
              "      <td>...</td>\n",
              "      <td>0</td>\n",
              "      <td>0</td>\n",
              "      <td>0</td>\n",
              "      <td>0</td>\n",
              "      <td>0</td>\n",
              "      <td>0</td>\n",
              "      <td>0</td>\n",
              "      <td>0</td>\n",
              "      <td>0</td>\n",
              "      <td>0</td>\n",
              "    </tr>\n",
              "  </tbody>\n",
              "</table>\n",
              "<p>5 rows × 7193 columns</p>\n",
              "</div>\n",
              "    <div class=\"colab-df-buttons\">\n",
              "\n",
              "  <div class=\"colab-df-container\">\n",
              "    <button class=\"colab-df-convert\" onclick=\"convertToInteractive('df-fe97182a-57f9-427a-ba75-4409fb32871f')\"\n",
              "            title=\"Convert this dataframe to an interactive table.\"\n",
              "            style=\"display:none;\">\n",
              "\n",
              "  <svg xmlns=\"http://www.w3.org/2000/svg\" height=\"24px\" viewBox=\"0 -960 960 960\">\n",
              "    <path d=\"M120-120v-720h720v720H120Zm60-500h600v-160H180v160Zm220 220h160v-160H400v160Zm0 220h160v-160H400v160ZM180-400h160v-160H180v160Zm440 0h160v-160H620v160ZM180-180h160v-160H180v160Zm440 0h160v-160H620v160Z\"/>\n",
              "  </svg>\n",
              "    </button>\n",
              "\n",
              "  <style>\n",
              "    .colab-df-container {\n",
              "      display:flex;\n",
              "      gap: 12px;\n",
              "    }\n",
              "\n",
              "    .colab-df-convert {\n",
              "      background-color: #E8F0FE;\n",
              "      border: none;\n",
              "      border-radius: 50%;\n",
              "      cursor: pointer;\n",
              "      display: none;\n",
              "      fill: #1967D2;\n",
              "      height: 32px;\n",
              "      padding: 0 0 0 0;\n",
              "      width: 32px;\n",
              "    }\n",
              "\n",
              "    .colab-df-convert:hover {\n",
              "      background-color: #E2EBFA;\n",
              "      box-shadow: 0px 1px 2px rgba(60, 64, 67, 0.3), 0px 1px 3px 1px rgba(60, 64, 67, 0.15);\n",
              "      fill: #174EA6;\n",
              "    }\n",
              "\n",
              "    .colab-df-buttons div {\n",
              "      margin-bottom: 4px;\n",
              "    }\n",
              "\n",
              "    [theme=dark] .colab-df-convert {\n",
              "      background-color: #3B4455;\n",
              "      fill: #D2E3FC;\n",
              "    }\n",
              "\n",
              "    [theme=dark] .colab-df-convert:hover {\n",
              "      background-color: #434B5C;\n",
              "      box-shadow: 0px 1px 3px 1px rgba(0, 0, 0, 0.15);\n",
              "      filter: drop-shadow(0px 1px 2px rgba(0, 0, 0, 0.3));\n",
              "      fill: #FFFFFF;\n",
              "    }\n",
              "  </style>\n",
              "\n",
              "    <script>\n",
              "      const buttonEl =\n",
              "        document.querySelector('#df-fe97182a-57f9-427a-ba75-4409fb32871f button.colab-df-convert');\n",
              "      buttonEl.style.display =\n",
              "        google.colab.kernel.accessAllowed ? 'block' : 'none';\n",
              "\n",
              "      async function convertToInteractive(key) {\n",
              "        const element = document.querySelector('#df-fe97182a-57f9-427a-ba75-4409fb32871f');\n",
              "        const dataTable =\n",
              "          await google.colab.kernel.invokeFunction('convertToInteractive',\n",
              "                                                    [key], {});\n",
              "        if (!dataTable) return;\n",
              "\n",
              "        const docLinkHtml = 'Like what you see? Visit the ' +\n",
              "          '<a target=\"_blank\" href=https://colab.research.google.com/notebooks/data_table.ipynb>data table notebook</a>'\n",
              "          + ' to learn more about interactive tables.';\n",
              "        element.innerHTML = '';\n",
              "        dataTable['output_type'] = 'display_data';\n",
              "        await google.colab.output.renderOutput(dataTable, element);\n",
              "        const docLink = document.createElement('div');\n",
              "        docLink.innerHTML = docLinkHtml;\n",
              "        element.appendChild(docLink);\n",
              "      }\n",
              "    </script>\n",
              "  </div>\n",
              "\n",
              "\n",
              "    <div id=\"df-476f7cb0-e1b5-464c-b86b-240cbca25fb3\">\n",
              "      <button class=\"colab-df-quickchart\" onclick=\"quickchart('df-476f7cb0-e1b5-464c-b86b-240cbca25fb3')\"\n",
              "                title=\"Suggest charts\"\n",
              "                style=\"display:none;\">\n",
              "\n",
              "<svg xmlns=\"http://www.w3.org/2000/svg\" height=\"24px\"viewBox=\"0 0 24 24\"\n",
              "     width=\"24px\">\n",
              "    <g>\n",
              "        <path d=\"M19 3H5c-1.1 0-2 .9-2 2v14c0 1.1.9 2 2 2h14c1.1 0 2-.9 2-2V5c0-1.1-.9-2-2-2zM9 17H7v-7h2v7zm4 0h-2V7h2v10zm4 0h-2v-4h2v4z\"/>\n",
              "    </g>\n",
              "</svg>\n",
              "      </button>\n",
              "\n",
              "<style>\n",
              "  .colab-df-quickchart {\n",
              "      --bg-color: #E8F0FE;\n",
              "      --fill-color: #1967D2;\n",
              "      --hover-bg-color: #E2EBFA;\n",
              "      --hover-fill-color: #174EA6;\n",
              "      --disabled-fill-color: #AAA;\n",
              "      --disabled-bg-color: #DDD;\n",
              "  }\n",
              "\n",
              "  [theme=dark] .colab-df-quickchart {\n",
              "      --bg-color: #3B4455;\n",
              "      --fill-color: #D2E3FC;\n",
              "      --hover-bg-color: #434B5C;\n",
              "      --hover-fill-color: #FFFFFF;\n",
              "      --disabled-bg-color: #3B4455;\n",
              "      --disabled-fill-color: #666;\n",
              "  }\n",
              "\n",
              "  .colab-df-quickchart {\n",
              "    background-color: var(--bg-color);\n",
              "    border: none;\n",
              "    border-radius: 50%;\n",
              "    cursor: pointer;\n",
              "    display: none;\n",
              "    fill: var(--fill-color);\n",
              "    height: 32px;\n",
              "    padding: 0;\n",
              "    width: 32px;\n",
              "  }\n",
              "\n",
              "  .colab-df-quickchart:hover {\n",
              "    background-color: var(--hover-bg-color);\n",
              "    box-shadow: 0 1px 2px rgba(60, 64, 67, 0.3), 0 1px 3px 1px rgba(60, 64, 67, 0.15);\n",
              "    fill: var(--button-hover-fill-color);\n",
              "  }\n",
              "\n",
              "  .colab-df-quickchart-complete:disabled,\n",
              "  .colab-df-quickchart-complete:disabled:hover {\n",
              "    background-color: var(--disabled-bg-color);\n",
              "    fill: var(--disabled-fill-color);\n",
              "    box-shadow: none;\n",
              "  }\n",
              "\n",
              "  .colab-df-spinner {\n",
              "    border: 2px solid var(--fill-color);\n",
              "    border-color: transparent;\n",
              "    border-bottom-color: var(--fill-color);\n",
              "    animation:\n",
              "      spin 1s steps(1) infinite;\n",
              "  }\n",
              "\n",
              "  @keyframes spin {\n",
              "    0% {\n",
              "      border-color: transparent;\n",
              "      border-bottom-color: var(--fill-color);\n",
              "      border-left-color: var(--fill-color);\n",
              "    }\n",
              "    20% {\n",
              "      border-color: transparent;\n",
              "      border-left-color: var(--fill-color);\n",
              "      border-top-color: var(--fill-color);\n",
              "    }\n",
              "    30% {\n",
              "      border-color: transparent;\n",
              "      border-left-color: var(--fill-color);\n",
              "      border-top-color: var(--fill-color);\n",
              "      border-right-color: var(--fill-color);\n",
              "    }\n",
              "    40% {\n",
              "      border-color: transparent;\n",
              "      border-right-color: var(--fill-color);\n",
              "      border-top-color: var(--fill-color);\n",
              "    }\n",
              "    60% {\n",
              "      border-color: transparent;\n",
              "      border-right-color: var(--fill-color);\n",
              "    }\n",
              "    80% {\n",
              "      border-color: transparent;\n",
              "      border-right-color: var(--fill-color);\n",
              "      border-bottom-color: var(--fill-color);\n",
              "    }\n",
              "    90% {\n",
              "      border-color: transparent;\n",
              "      border-bottom-color: var(--fill-color);\n",
              "    }\n",
              "  }\n",
              "</style>\n",
              "\n",
              "      <script>\n",
              "        async function quickchart(key) {\n",
              "          const quickchartButtonEl =\n",
              "            document.querySelector('#' + key + ' button');\n",
              "          quickchartButtonEl.disabled = true;  // To prevent multiple clicks.\n",
              "          quickchartButtonEl.classList.add('colab-df-spinner');\n",
              "          try {\n",
              "            const charts = await google.colab.kernel.invokeFunction(\n",
              "                'suggestCharts', [key], {});\n",
              "          } catch (error) {\n",
              "            console.error('Error during call to suggestCharts:', error);\n",
              "          }\n",
              "          quickchartButtonEl.classList.remove('colab-df-spinner');\n",
              "          quickchartButtonEl.classList.add('colab-df-quickchart-complete');\n",
              "        }\n",
              "        (() => {\n",
              "          let quickchartButtonEl =\n",
              "            document.querySelector('#df-476f7cb0-e1b5-464c-b86b-240cbca25fb3 button');\n",
              "          quickchartButtonEl.style.display =\n",
              "            google.colab.kernel.accessAllowed ? 'block' : 'none';\n",
              "        })();\n",
              "      </script>\n",
              "    </div>\n",
              "\n",
              "    </div>\n",
              "  </div>\n"
            ],
            "application/vnd.google.colaboratory.intrinsic+json": {
              "type": "dataframe",
              "variable_name": "df_sports_stems"
            }
          },
          "metadata": {},
          "execution_count": 8
        }
      ],
      "source": [
        "print(df_sports_stems.shape)\n",
        "df_sports_stems.head()"
      ]
    },
    {
      "cell_type": "markdown",
      "metadata": {
        "id": "rxHdLxbsiaOU"
      },
      "source": [
        "\n",
        "### Ejercicio 4. Visualización.\n",
        "Para poder visualizar las noticias y ver si se forman grupos de noticias, calcular las dos primeras componentes principales $Z_1$ y $Z_2$ del DataFrame `df_sports_stems` y realizar un gráfico de dispersión de $Z_1$ vs. $Z_2$.\n"
      ]
    },
    {
      "cell_type": "code",
      "execution_count": 9,
      "metadata": {
        "colab": {
          "base_uri": "https://localhost:8080/",
          "height": 395
        },
        "id": "9grrkBMn1TJf",
        "outputId": "56c53134-2eb5-4b54-eb42-54f69e9287a2"
      },
      "outputs": [
        {
          "output_type": "execute_result",
          "data": {
            "text/plain": [
              "<seaborn._core.plot.Plot at 0x7e9b62eb5850>"
            ],
            "image/png": "[encoded data removed]"
          },
          "metadata": {
            "image/png": {
              "width": 514.675,
              "height": 378.25
            }
          },
          "execution_count": 9
        }
      ],
      "source": [
        "# Escalamos a media 0 con distibución normal\n",
        "df_ss_scaled = StandardScaler().set_output(transform=\"pandas\").fit_transform(df_sports_stems)\n",
        "\n",
        "# Aplicamos PCA\n",
        "pca = PCA(n_components=2)\n",
        "\n",
        "# Calculamos los Z1 y Z2\n",
        "principalComponents = pca.fit_transform(df_ss_scaled)\n",
        "\n",
        "# Realizamos grafico de dispersión\n",
        "(\n",
        "    so.Plot(x = principalComponents[:,0], y = principalComponents[:,1])\n",
        "    .add(so.Dot())\n",
        "    .label(title='Componentes principales de bag of words sobre noticias deportes', x= \"Z1\", y = \"Z2\")\n",
        "    # agregar nombre, prettify\n",
        ")"
      ]
    },
    {
      "cell_type": "markdown",
      "source": [
        "Pareceria ser que esto genera un error en los datos. Si bien los datos son representados en su mayoria en la componente principal $Z_2$, existe un outlier con peso mayor a 200 sobre $Z_1$. Probablemente esto este causando que considere a $Z_1$ como la componente pricipal de mayor peso, causando asi un clustering que no representa los datos reales. Vamos a intentar otro enfoque:\n",
        "1. Identificar a este stem\n",
        "2. Intentar sacarlo / no considerarlo y ver como procede."
      ],
      "metadata": {
        "id": "e1pLkGsJXChs"
      }
    },
    {
      "cell_type": "code",
      "source": [
        "n = np.argmax(principalComponents[:,0])"
      ],
      "metadata": {
        "id": "-8cjAd4KYBDh"
      },
      "execution_count": 54,
      "outputs": []
    },
    {
      "cell_type": "code",
      "source": [
        "principalComponents[n]"
      ],
      "metadata": {
        "id": "_QP-8wDVYXMp",
        "outputId": "980ec123-7c73-4b4d-d19e-aee0ea8b644b",
        "colab": {
          "base_uri": "https://localhost:8080/"
        }
      },
      "execution_count": 55,
      "outputs": [
        {
          "output_type": "execute_result",
          "data": {
            "text/plain": [
              "array([236.80790789, -19.89267489])"
            ]
          },
          "metadata": {},
          "execution_count": 55
        }
      ]
    },
    {
      "cell_type": "code",
      "source": [
        "df_sports_stems.iloc[n][df_sports_stems.iloc[n] >10]\n"
      ],
      "metadata": {
        "id": "OXJHNOAEYZsK",
        "outputId": "4b5b2381-c4bc-431c-c90c-860fb7541967",
        "colab": {
          "base_uri": "https://localhost:8080/",
          "height": 367
        }
      },
      "execution_count": 56,
      "outputs": [
        {
          "output_type": "execute_result",
          "data": {
            "text/plain": [
              "black      17\n",
              "first      14\n",
              "game       19\n",
              "new        32\n",
              "team       11\n",
              "tour       13\n",
              "wale       23\n",
              "win        14\n",
              "zealand    31\n",
              "Name: 370, dtype: int64"
            ],
            "text/html": [
              "<div>\n",
              "<style scoped>\n",
              "    .dataframe tbody tr th:only-of-type {\n",
              "        vertical-align: middle;\n",
              "    }\n",
              "\n",
              "    .dataframe tbody tr th {\n",
              "        vertical-align: top;\n",
              "    }\n",
              "\n",
              "    .dataframe thead th {\n",
              "        text-align: right;\n",
              "    }\n",
              "</style>\n",
              "<table border=\"1\" class=\"dataframe\">\n",
              "  <thead>\n",
              "    <tr style=\"text-align: right;\">\n",
              "      <th></th>\n",
              "      <th>370</th>\n",
              "    </tr>\n",
              "  </thead>\n",
              "  <tbody>\n",
              "    <tr>\n",
              "      <th>black</th>\n",
              "      <td>17</td>\n",
              "    </tr>\n",
              "    <tr>\n",
              "      <th>first</th>\n",
              "      <td>14</td>\n",
              "    </tr>\n",
              "    <tr>\n",
              "      <th>game</th>\n",
              "      <td>19</td>\n",
              "    </tr>\n",
              "    <tr>\n",
              "      <th>new</th>\n",
              "      <td>32</td>\n",
              "    </tr>\n",
              "    <tr>\n",
              "      <th>team</th>\n",
              "      <td>11</td>\n",
              "    </tr>\n",
              "    <tr>\n",
              "      <th>tour</th>\n",
              "      <td>13</td>\n",
              "    </tr>\n",
              "    <tr>\n",
              "      <th>wale</th>\n",
              "      <td>23</td>\n",
              "    </tr>\n",
              "    <tr>\n",
              "      <th>win</th>\n",
              "      <td>14</td>\n",
              "    </tr>\n",
              "    <tr>\n",
              "      <th>zealand</th>\n",
              "      <td>31</td>\n",
              "    </tr>\n",
              "  </tbody>\n",
              "</table>\n",
              "</div><br><label><b>dtype:</b> int64</label>"
            ]
          },
          "metadata": {},
          "execution_count": 56
        }
      ]
    },
    {
      "cell_type": "code",
      "source": [
        "df_sports.iloc[n].content"
      ],
      "metadata": {
        "id": "wBtJH5FyZPGl",
        "outputId": "6fd35bd6-788e-4221-d9e4-249a90575164",
        "colab": {
          "base_uri": "https://localhost:8080/",
          "height": 92
        }
      },
      "execution_count": 57,
      "outputs": [
        {
          "output_type": "execute_result",
          "data": {
            "text/plain": [
              "'Playing colours:\\n \\n All black\\n \\n The Haka and more!\\n \\n The All Blacks\\n \\n Charles John Munro discovered rugby at London\\'s Christ College, and on his return to Nelson he staged New Zealand\\'s first game. Nelson Town met Nelson College on 14 May, 1870, the Town triumphing by two goals to nil, instigating a game that would become a national obsession and come to dominate the country\\'s sporting passions. The game appealed to the Kiwi psyche and quickly spread, the native Maoris finding a particular empathy with the sport\\'s warrior ethos. In 1888 a British team led by AE Stoddart toured New Zealand and Australia, and soon after a Maori named Joe Warbrick and an English ex-pat called Thomas Eyton decided to gather a combined New Zealand team.\\n \\n Twenty-two Maori and four \\'pakiha\\' formed the \\'New Zealand Native Team,\\' who played a total of 107 matches in New Zealand, Australia and the UK. The integration of white and Maori was a reflecion of enlightened New Zealand rugby and society, even if the British press were somewhat mystified by the pre-match tradition of the Maori war dance, the Haka! The other great symbol of New Zealand rugby, the all black kit with the silver fern on the breast, was proposed by Tom Ellison at the first annual meeting of the New Zealand Rugby Football Union in 1893. New Zealand played their first international against Australia in 1903, the Kiwis triumphing 22-3 in Sydney, and the following year an official British touring team came to New Zealand for the first time. The tourists had gone through Australia undefeated but their captain, David Revell Bedell-Sivright, created animosity in New Zealand with his patronising attitude. The Kiwis shocked the rugby world with a 9-3 triumph in Wellington, sparking great celebrations across the country, but Bedell-Sivright churlishly suggested that the victors would have no chance when they visited the UK.\\n \\n Their opportunity to prove him wrong came in 1905 with the first official New Zealand tour to Europe. The tourists won their early games with a quick-thinking, inventive approach, but press criticism began to grow over their 2-3-2 scrum formation that left a \\'roving\\' forward free to disrupt opposition attacks. The tactic was effective, two late tries seeing the Kiwis to a 12-7 win over Scotland, before Ireland were despatched 15-0 in Dublin. A huge crowd at Crystal Palace convulsed with laughter at the sight of the Haka - but the smiles were soon wiped from their faces when the tourists ran in five tries in a 15-0 hammering of England. New Zealand headed to Wales to meet a country in the midst of its first \\'Golden Age,\\' and the encounter would be the first in a series of controversial clashes between the sides. An excellent try on the left wing by Teddy Morgan sealed a 3-0 win in a hard-fought encounter at Cardiff Arms Park, but post-match talk was dominated by a Bob Deans try that was ruled out by Scottish referee John Dallas. Dallas said that Deans was tackled short, but the Kiwi said he was dragged back into the field of play after grounding a try - on his death-bed three years later he exclaimed: \"I did score that try in Cardiff.\"\\n \\n Four of the 1905 All Blacks went over to the newly formed \\'All Golds\\' rugby league side soon after the tour, but New Zealand were strong enough to crush an Anglo-Welsh touring team in 1908. The first South Africa tour of New Zealand in 1921 saw honours shared in a three-Test series, starting the greatest rivalry in rugby - and the long-running controversy between the countries over the All Blacks\\' inclusion of Maori players. The awesome 1924-5 All Black tourists became known as \\'The Invincibles\\' after winning all 30 of their games in France, Britain and Ireland, including a crushing 19-0 victory over Wales at St Helen\\'s. Despite their success, the All Blacks\\' 2-3-2 scrum formation left them somewhat short of possession at times, and the flaws were exploited by the Springboks in South Africa in 1928. Employing the modern 3-4-1 scrum line-up against the New Zealand \\'rover\\' system for the first time, South African teams defeated the All Blacks in five games and the Test series was drawn two-all. The controversial New Zealand scrum method finally disappeared after the 1930 Lions tour (a series won 3-1 by New Zealand), the Lions manager describing the tactic as \\'cheating,\\' prompting the International Rugby Board to rule that three men had to pack down in the front row of the scrum.\\n \\n The All Blacks\\' 1935 European tour started inauspiciously with an 11-3 loss to a Swansea side inspired by teenage, schoolboy half-backs Hayden Tanner and Willie Davies. A thrilling Test at Cardiff Arms Park went to Wales 13-12, although the winning try from Geoffrey Rees-Jones was controversial following an illegal Claude Davey tackle in the build-up. New Zealand\\'s next visit to Wales in 1953 proved difficult as they lost 8-3 to Cardiff and drew 6-6 at Swansea. The All Blacks were on top in the Test with Wales at the Arms Park, but the teams were locked at 8-8 when a Clem Thomas cross kick was gathered by Ken Jones for a famous, match-winning try. The tourists made some amends with wins over the other home nations, before a 19-5 success over the Barbarians in an Arms Park thriller. New Zealand built from that tour, and by the time they returned in 1963-4 they were undoubtedly the leading side in the world.\\n \\n That made the shock all the greater when a drop goal by student John Uzzell gave Newport an unlikely 3-0 win over the tourists at Rodney Parade. Wilson Whinneray\\'s side rallied to beat Wales 6-0, their first win at the Arms Park in four attempts, and went unbeaten through the rest of the tour, but when they returned home the first question put to them was: \"What happened in Newport?\" The only blemish on the record of the awesome 1967 tourists was a draw with East Wales, as they beat the full Wales team 13-6 in Cardiff to take the lead in the series between the countries for the first time. That lead was increased with two comfortable wins for the home side in New Zealand in 1969, the first time Wales had toured the country as an independent team.\\n \\n A ferocious game at the Arms Park in 1972 was edged 19-16 by the All Blacks, a measure of revenge for the defeat inflicted on New Zealand by the Carwyn James-inspired Lions of 1971.\\n \\n James guided Llanelli to a famous 9-3 win over the tourists at Stradey Park, though, and in the final game of the tour the Barbarians defeated the All Blacks 23-11 in Cardiff in a game regarded by many as the greatest ever played. New Zealand defeated a Wales XV 12-3 at the Arms Park in a non-cap game in 1974, but it was the 1978 game in Cardiff that would reignite the history of controversy between the two countries.\\n \\n Wales were leading 12-10 with one minute left when Andy Haden flew to the floor from a line-out. Television pictures clearly showed that he dived, but English referee Roger Quittenton was fooled and awarded a penalty, duly converted by Brian McKechnie for a 13-12 win. Since that infamous game, the competition has largely left Wales v New Zealand fixtures as the men in red have slipped from the pinnacle of the world game. A crushing 23-3 win for New Zealand in Cardiff in the Welsh Rugby Union\\'s 1980 centenary game was a sign of things to come. The new professionalism in the southern hemisphere game that had left Europe behind was shown as the All Blacks swatted Wales aside 49-6 in Brisbane in the semi-final of the inaugural World Cup. The Kiwis went on to claim the Cup, and would inflict further misery on Wales on their ill-fated 1988 tour of New Zealand.\\n \\n A young, talented Wales side left Britain full of confidence as Triple Crown winners, but one of the greatest ever New Zealand teams demolished them 52-3 and 54-9. After also taking some fearful beatings in the provincial games, Wales captain Jonathan Davies returned home calling for urgent change in the national game, but as his views were ignored he - along with a generation of Wales\\' best players - chose to head north to rugby league.\\n \\n A 34-9 win in Cardiff followed for New Zealand in 1989, and at the 1995 World Cup Wales\\' big talk was made to look embarrassing as the All Blacks eased to victory in Johannesburg. A crushing 42-7 Kiwi triumph in Wembley followed in 1997, and as Wales\\' misery increased they turned to New Zealand for their salvation in the shape of coaches Graham Henry and Steve Hansen. There was a temporary resurgence in the Welsh game, but when an experimental New Zealand side came to Cardiff\\'s new Millennium Stadium in 2002 they left with a 43-17 victory.\\n \\n A bruising 55-3 defeat followed for Wales in Hamilton in 2003 as Hansen built towards the World Cup, but in Australia it was a remarkable performance against the All Blacks that gave his side renewed hope. Wales were given no chance going into the game, but in the course of the match they rediscovered the value of attacking flair to lead 37-33 early in the second half. New Zealand rallied to a 53-37 win, but the style shown by Wales has been used as an inspiration as they look to a better future. They now face an All Blacks team led by Henry and Hansen, coming to Europe with a weakened squad at the end of a long season. An encouraging display against South Africa has inspired a confident Wales camp to believe they can claim their first win over the men in black for over 50 years. They have a chance, but clearly history is not on their side.\\n'"
            ],
            "application/vnd.google.colaboratory.intrinsic+json": {
              "type": "string"
            }
          },
          "metadata": {},
          "execution_count": 57
        }
      ]
    },
    {
      "cell_type": "markdown",
      "metadata": {
        "id": "5g65PkSpm3m1"
      },
      "source": [
        "\n",
        "### Ejercicio 5.\n",
        "¿Pueden observar grupos en esta visualización? ¿Cuál puede ser el problema?\n"
      ]
    },
    {
      "cell_type": "markdown",
      "metadata": {
        "id": "yU-c3Hm0o92Y"
      },
      "source": [
        "\n",
        "**TF-IDF.** El enfoque bag-of-words es demasiado simple. Hay palabras que aparecen mucho en los textos (como por ejemplo ”today” o ”say”) que no sirven para relacionar artículos con temáticas parecidas. Queremos darle poco peso a estas palabras. Por el contrario, si una palabra aparece en solo 3 noticias, podemos imaginar que esas 3 noticias están relacionadas. Queremos darle más peso a palabras poco frecuentes.\n",
        "\n",
        "Una métrica usual que da muy buenos resultados es la llamada TF-IDF.\n",
        "El término TF (term frequency) es la frecuencia de la palabra en el texto, normalizada:\n",
        "\n",
        "$$\\text{TF}(t, d) = \\frac{\\text{cantidad de veces que la palabra } t \\text{ aparece en el texto } d}{||\\text{vector de frecuencias del documento } d||_2}$$\n",
        "\n",
        "donde el denominador es $\\sqrt{\\sum_{t′} f^2_{t′,d}} $,  la raíz cuadrada de la suma de los cuadrados de las frecuencias de todos los términos en el documento $d$ (similar a la cantidad total de palabras en el texto). El término IDF (inverse document frequency) es el logaritmo del cociente entre el total de documentos y el número de documentos que contienen un término, más uno:\n",
        "\n",
        "$$\n",
        "\\text{IDF}(t, D) = log\\left(\\frac{\\text{número total de documentos en el corpus } D}{ \\text{cantidad de documentos en el corpus } D \\text{ que tienen la palabra }t}\\right) + 1\n",
        "$$\n",
        "\n",
        "Finalmente, definimos\n",
        "$$\\text{TF-IDF}(t, d, D) = \\text{TF}(t, d) × \\text{IDF}(t, D)$$\n",
        "Esta métrica no es difícil de calcular a partir de las variables que ya calculamos, pero podemos también hacerlo automáticamente a través del comando `TfidfVectorizer`.\n"
      ]
    },
    {
      "cell_type": "markdown",
      "metadata": {
        "id": "ZWlxFEdDm5M8"
      },
      "source": [
        "\n",
        "### Ejercicio 6.\n",
        "Generar un DataFrame `df_sports_tfidf` que contenga una columna por cada stem que aparece en los contenidos de las noticias de deportes. Para cada noticia, cada columna indica el valor de TF-IDF. Pueden utilizar el siguiente código.\n"
      ]
    },
    {
      "cell_type": "code",
      "execution_count": null,
      "metadata": {
        "id": "L5FzGrSIluF7"
      },
      "outputs": [],
      "source": [
        "# Text vectorization using TF-IDF\n",
        "vectorizer = TfidfVectorizer(analyzer=tokenize_and_stem, smooth_idf=False)\n",
        "X = vectorizer.fit_transform(df_sports[\"content\"])\n",
        "df_sports_tfidf = pd.DataFrame(X.toarray(), columns=vectorizer.get_feature_names_out())\n",
        "df_sports_tfidf.head()"
      ]
    },
    {
      "cell_type": "markdown",
      "metadata": {
        "id": "qjaKigy5lv6M"
      },
      "source": [
        "\n",
        "### O1. (Opcional.)\n",
        "Para la raíz ***abandon***, calcular mediante funciones usuales el valor de TF-IDF para la noticia deportiva 246 (con título ***Real will finish abandoned match***). Comparar el valor en la tabla generada\n",
        " con el valor que obtuvieron a mano en el ítem anterior.\n"
      ]
    },
    {
      "cell_type": "markdown",
      "metadata": {
        "id": "RK_1QYpao8s8"
      },
      "source": [
        "\n",
        "### Ejercicio 7. Visualización.\n",
        "Calcular las dos primeras componentes principales $Z_1$ y $Z_2$ del DataFrame\n",
        "`df_sports_tfidf` y realizar un gráfico de dispersión de $Z_1$ vs. $Z_2$. ¿Pueden observar agrupamientos en esta visualización?\n"
      ]
    },
    {
      "cell_type": "code",
      "execution_count": null,
      "metadata": {
        "id": "xAOH7ZBpECJZ"
      },
      "outputs": [],
      "source": [
        "# Escalamos a media 0 con distibución normal\n",
        "df_sports_scaled_tfidf = StandardScaler().set_output(transform=\"pandas\").fit_transform(df_sports_tfidf)\n",
        "\n",
        "# Aplicamos PCA\n",
        "pca = PCA(n_components=15)\n",
        "\n",
        "# Calculamos los Z1 y Z2\n",
        "principalComponents = pca.fit_transform(df_sports_scaled_tfidf)\n",
        "\n",
        "# Realizamos grafico de dispersión\n",
        "(\n",
        "    so.Plot(x = principalComponents[:,0], y = principalComponents[:,1])\n",
        "    .add(so.Dot())\n",
        "    .label(title='Componentes principales TF-IDF', x= \"Z1\", y = \"Z2\")\n",
        "    # agregar nombre, prettify\n",
        ")"
      ]
    },
    {
      "cell_type": "markdown",
      "metadata": {
        "id": "DlLAzty-o8AH"
      },
      "source": [
        "\n",
        "### Ejercicio 8. Clustering.\n",
        "Realizar un agrupamiento de los datos por algún método de clustering entre los\n",
        "vistos en clase (K-means o DB-scan). Utilizar todas las columnas de datos (no las componentes principales), seleccionado los hiperparámetros por algún mecanismo que consideren apropiado.\n"
      ]
    },
    {
      "cell_type": "code",
      "execution_count": null,
      "metadata": {
        "id": "SfdQKZLDlGPd"
      },
      "outputs": [],
      "source": [
        "from sklearn.cluster import KMeans\n",
        "\n",
        "data = df_sports_tfidf\n",
        "inertias = []\n",
        "max_clusters = 60\n",
        "\n",
        "for i in range(1,max_clusters):\n",
        "    kmeans = KMeans(n_clusters=i)\n",
        "    kmeans.fit(data)\n",
        "    inertias.append(kmeans.inertia_)\n",
        "\n",
        "plt.plot(range(1,max_clusters), inertias, marker='o')\n",
        "plt.title('Método del codo')\n",
        "plt.xlabel('Number of clusters')\n",
        "plt.ylabel('Inertia')\n",
        "plt.show()"
      ]
    },
    {
      "cell_type": "code",
      "execution_count": null,
      "metadata": {
        "id": "MCLbNZF_mmVS"
      },
      "outputs": [],
      "source": [
        "# en 3 parece haber un cambio notable en la derivada\n",
        "kmeans = KMeans(n_clusters=3)\n",
        "kmeans.fit(data)\n",
        "\n",
        "labels = [str(label) for label in kmeans.labels_]\n"
      ]
    },
    {
      "cell_type": "markdown",
      "metadata": {
        "id": "PPz3hLnAo7Ku"
      },
      "source": [
        "\n",
        "### Ejercicio 9.\n",
        "Colorear los puntos del gráfico de dispersión de PCA según las etiquetas de los clusters. ¿Quedan los puntos de cada cluster ubicados cerca en esta visualización?\n"
      ]
    },
    {
      "cell_type": "code",
      "execution_count": null,
      "metadata": {
        "id": "5g9lg799nMZa"
      },
      "outputs": [],
      "source": [
        "(\n",
        "    so.Plot(x = principalComponents[:,0], y = principalComponents[:,1], color=labels)\n",
        "    .add(so.Dot())\n",
        "    .label(title='Componentes principales TF-IDF', x= \"Z1\", y = \"Z2\")\n",
        "    # agregar nombre, prettify\n",
        ")"
      ]
    },
    {
      "cell_type": "markdown",
      "metadata": {
        "id": "aemZq3jto6iW"
      },
      "source": [
        "\n",
        "### Ejercicio 10. Identificación de temáticas.\n",
        "Queremos identificar las temáticas de algunos de estos clusters. Para esto pueden utilizar cualquier estrategia que consideren apropiada. Por ejemplo,\n",
        "- ver los títulos o contenidos de las noticias en algunos clusters.\n",
        "- si algunas de las componentes principales distingue clusters, ver qué palabras tienen peso en esa componente. Por ejemplo, si vemos que un cluster corresponde a noticias con coordenada $Z_1$ alta, analizamos en las coordenadas de la dirección principal correspondiente qué palabras tienen el mayor peso positivo.\n",
        "\n",
        "Algunos clusters pueden no tener una temática clara. Identificar temáticas en al menos 2 clusters del agrupamiento.\n"
      ]
    },
    {
      "cell_type": "markdown",
      "metadata": {
        "id": "7h0nKXfno5Qy"
      },
      "source": [
        "\n",
        "## Clasificación [4 pts.]\n"
      ]
    },
    {
      "cell_type": "markdown",
      "metadata": {
        "id": "lNWbzapgpL78"
      },
      "source": [
        "\n",
        "Trabajamos ahora con toda la base de datos. Queremos predecir la categoría de cada artículo según el contenido del texto. Nuevamente vamos a utilizar la métrica TD-IDF y suponer que noticias cercanas en esta métrica corresponden a noticias de temática similar.\n"
      ]
    },
    {
      "cell_type": "markdown",
      "metadata": {
        "id": "PjXwRtTGo4Y9"
      },
      "source": [
        "\n",
        "### Ejercicio 11.\n",
        "Generar un DataFrame `df_news_tfidf` que contenga una columna por cada stem que aparece en los contenidos de todas las noticias. Para cada noticia, cada columna indica el valor de TF-IDF (utilicen el mismo código de antes para generar este DataFrame).\n"
      ]
    },
    {
      "cell_type": "code",
      "execution_count": null,
      "metadata": {
        "id": "TeLyfrytVIUC"
      },
      "outputs": [],
      "source": [
        "X_news = vectorizer.fit_transform(df_news[\"content\"])\n",
        "\n",
        "df_news_tfidf = pd.DataFrame(X_news.toarray(), columns=vectorizer.get_feature_names_out())\n",
        "\n",
        "df_news_tfidf.head()"
      ]
    },
    {
      "cell_type": "markdown",
      "metadata": {
        "id": "6g_3qMVMo3Sn"
      },
      "source": [
        "\n",
        "### Ejercicio 12. Visualización.\n",
        "Calcular las dos primeras componentes principales $Z_1$ y $Z_2$ del DataFrame\n",
        "`df_news_tfidf` y realizar un gráfico de dispersión de $Z_1$ vs. $Z_2$, coloreando cada punto según la categoría del artículo.\n",
        "¿Quedan las noticias de cada categoría ubicadas cerca en esta visualización?\n"
      ]
    },
    {
      "cell_type": "code",
      "execution_count": null,
      "metadata": {
        "id": "EJi5XBnLVIUC"
      },
      "outputs": [],
      "source": [
        "df_news_scaled_tfidf = StandardScaler().set_output(transform=\"pandas\").fit_transform(df_news_tfidf)\n",
        "\n",
        "pca = PCA(n_components=2)\n",
        "news_principalComponents = pca.fit_transform(df_news_scaled_tfidf)\n",
        "\n",
        "(\n",
        "    so.Plot(x = news_principalComponents[:,0], y = news_principalComponents[:,1], color=df_news['category'])\n",
        "    .add(so.Dot())\n",
        "    .label(title=\"PCA de news (TF–IDF): Z1 vs Z2\", x=\"Z1\", y=\"Z2\", color=\"Category\")\n",
        ")"
      ]
    },
    {
      "cell_type": "markdown",
      "metadata": {
        "id": "HA2VVsHbo2c4"
      },
      "source": [
        "\n",
        "### O2. (Opcional.)\n",
        "¿Qué palabras tienen peso positivo alto y peso negativo alto en estas dos compo-\n",
        "nentes?\n"
      ]
    },
    {
      "cell_type": "code",
      "execution_count": null,
      "metadata": {
        "id": "ttWFIOPTVIUC"
      },
      "outputs": [],
      "source": [
        "feature_names = vectorizer.get_feature_names_out()\n",
        "\n",
        "components = pca.components_[:2]\n",
        "\n",
        "for i, comp in enumerate(components):\n",
        "    neg_idx = comp.argmin()   # índice de la carga más negativa\n",
        "    pos_idx = comp.argmax()   # índice de la carga más positiva\n",
        "\n",
        "    print(f\"Z{i+1} ➞ palabra con peso negativo más alto: “{feature_names[neg_idx]}” (peso {comp[neg_idx]:.3f})\")\n",
        "    print(f\"Z{i+1} ➞ palabra con peso positivo más alto: “{feature_names[pos_idx]}” (peso {comp[pos_idx]:.3f})\\n\")\n"
      ]
    },
    {
      "cell_type": "markdown",
      "metadata": {
        "id": "Bw6ztfCro1a5"
      },
      "source": [
        "\n",
        "### Ejercicio 13.\n",
        "Predecir la categoría de cada artículo utilizando KNN. Para esto:\n",
        " 1. separar el conjunto total de datos en un 80% para entrenamiento y un 20% para testeo\n",
        " 2. seleccionar el valor de K (entre números impares del 1 al 19 ambos inclusive) por algún esquema de validación apropiado en el conjunto de entrenamiento (*train-validation*, *cross-validation*, *leave-one-out*),\n",
        " 3. para el valor hallado, calcular la precisión del método (porcentaje de aciertos) en el conjunto de testeo.\n"
      ]
    },
    {
      "cell_type": "code",
      "execution_count": null,
      "metadata": {
        "id": "Nri-_SJMVIUD"
      },
      "outputs": [],
      "source": [
        "#item 1\n",
        "\n",
        "X = df_news_tfidf\n",
        "y = df_news['category']\n",
        "\n",
        "X_train, X_test, y_train, y_test = train_test_split(X, y, test_size = 0.2, random_state=42)\n",
        "\n",
        "scaler = StandardScaler().set_output(transform=\"pandas\")\n",
        "X_train_scaled = scaler.fit_transform(X_train)\n",
        "X_test_scaled = scaler.transform(X_test)"
      ]
    },
    {
      "cell_type": "code",
      "execution_count": null,
      "metadata": {
        "id": "YRuGtCd8VIUE"
      },
      "outputs": [],
      "source": [
        "#item 2\n",
        "\n",
        "X_train_aux, X_test_aux, y_train_aux, y_test_aux = train_test_split(X_train_scaled, y_train, test_size=0.2, random_state=42)\n",
        "\n",
        "best_k = 1\n",
        "best_accuracy = 0\n",
        "\n",
        "for K in range(1, 20, 2):\n",
        "    neighbor = KNeighborsClassifier(n_neighbors=K)\n",
        "    neighbor.fit(X_train_aux, y_train_aux)\n",
        "    y_pred = neighbor.predict(X_test_aux)\n",
        "    accuracy = accuracy_score(y_test_aux, y_pred)\n",
        "    print(K, accuracy_score(y_test_aux, y_pred))\n",
        "\n",
        "    if accuracy > best_accuracy:\n",
        "        best_accuracy = accuracy\n",
        "        best_k = K\n",
        "\n",
        "\n",
        "print (best_k, best_accuracy)\n",
        "\n",
        "\n",
        "#for K in range(1,20,2):\n",
        "    #neighbor = KNeighborsClassifier(n_neighbors=K)\n",
        "    #neighbor.fit(X_train_scaled,y_train)\n",
        "    #y_pred = neighbor.predict(X_test_scaled)\n",
        "\n",
        "    #print(K, accuracy_score(y_test,y_pred))\n"
      ]
    },
    {
      "cell_type": "code",
      "execution_count": null,
      "metadata": {
        "id": "h_DrlHvYVIUE"
      },
      "outputs": [],
      "source": [
        "#item 3\n",
        "\n",
        "knn = KNeighborsClassifier(n_neighbors=best_k)\n",
        "knn.fit(X_train_scaled, y_train)\n",
        "y_pred = knn.predict(X_test_scaled)\n",
        "\n",
        "print(accuracy_score(y_test, y_pred))"
      ]
    },
    {
      "cell_type": "markdown",
      "metadata": {
        "id": "1c6kOkHNo0dX"
      },
      "source": [
        "\n",
        "### O3. (Opcional.) Maldición de la dimensionalidad.\n",
        "Vimos que al utilizar muchas variables explicativas podemos caer en la maldición de la dimensionalidad. Una estrategia posible para evitar esto es usar las componentes principales para clasificación. ¿Cuántas componentes tenemos que tomar si queremos que esas componentes expliquen al menos un 10% de la varianza total? Definir un DataFrame $Z$ que contenga esas componentes y repetir el ejercicio anterior. ¿Mejoró la precisión del método?\n"
      ]
    },
    {
      "cell_type": "markdown",
      "metadata": {
        "id": "NyX8D8vvozWz"
      },
      "source": [
        "\n",
        "## Clasificación utilizando títulos de las noticias [2 pts.]\n"
      ]
    },
    {
      "cell_type": "markdown",
      "metadata": {
        "id": "vB8vNzSZpN0d"
      },
      "source": [
        "\n",
        "Hasta ahora utilizamos el contenido de las noticias para clasificar. En estas noticias los títulos son muy breves y resulta más difícil utilizarlos para clasificar.\n"
      ]
    },
    {
      "cell_type": "markdown",
      "metadata": {
        "id": "kqeDgbF1oye0"
      },
      "source": [
        "\n",
        "### Ejercicio 14.\n",
        "Generar un DataFrame `df_titles_tfidf` que contenga una columna por cada stem que aparece en los títulos de las noticias. Para cada noticia, cada columna indica el valor de TF-IDF.\n"
      ]
    },
    {
      "cell_type": "markdown",
      "metadata": {
        "id": "5MxxcW25ov07"
      },
      "source": [
        "\n",
        "### O4. (Opcional.) Aplicar KNN como en la sección anterior para clasificación de la categoría utilizando solo los títulos de las noticias. ¿Qué porcentaje de aciertos obtenemos?\n"
      ]
    },
    {
      "cell_type": "markdown",
      "metadata": {
        "id": "lfrhsAs3oxEI"
      },
      "source": [
        "\n",
        "Vamos a enfocarnos ahora en predecir correctamente qué artículos corresponden a la categoría de entretenimiento.\n"
      ]
    },
    {
      "cell_type": "markdown",
      "metadata": {
        "id": "M-Vkfjrcou9J"
      },
      "source": [
        "\n",
        "### Ejercicio 15.\n",
        "Definir una nueva serie entretenimiento que tome valor 1 si la categoría es entretenimiento y 0 si no. Aplicar KNN como en la sección anterior para clasificación de la categoría entrenimiento utilizando solo los títulos de las noticias (es decir, para predecir la variable entretenimiento). ¿Qué porcentaje de aciertos obtenemos?\n"
      ]
    },
    {
      "cell_type": "markdown",
      "metadata": {
        "id": "3RwpcYIJouOo"
      },
      "source": [
        "\n",
        "### Ejercicio 16.\n",
        "Proponer otro modelo de clasificación para predecir el valor de esta variable. Puede ser un modelo de regresión lineal, logística, red neuronal o cualquier otro modelo.\n"
      ]
    },
    {
      "cell_type": "markdown",
      "metadata": {
        "id": "DjmiY4AoosYp"
      },
      "source": [
        "\n",
        "### Ejercicio 17.\n",
        "Utilizando los mismos conjuntos de entrenamiento y testeo de la sección anterior, calcular los parámetros e hiperparámetros del modelo en el conjunto de entrenamiento y calcular el porcentaje de aciertos en el conjunto de testeo. Comparar con KNN. (No se preocupen si no obtienen un porcentaje mayor al de KNN, mientras sigan los pasos correctos para ajustar el modelo.)"
      ]
    },
    {
      "cell_type": "code",
      "execution_count": null,
      "metadata": {
        "id": "mgs8IfD8GIl3"
      },
      "outputs": [],
      "source": []
    }
  ],
  "metadata": {
    "colab": {
      "provenance": [],
      "include_colab_link": true
    },
    "kernelspec": {
      "display_name": "Python 3 (ipykernel)",
      "language": "python",
      "name": "python3"
    },
    "language_info": {
      "codemirror_mode": {
        "name": "ipython",
        "version": 3
      },
      "file_extension": ".py",
      "mimetype": "text/x-python",
      "name": "python",
      "nbconvert_exporter": "python",
      "pygments_lexer": "ipython3",
      "version": "3.12.4"
    }
  },
  "nbformat": 4,
  "nbformat_minor": 0
}