{
 "cells": [
  {
   "cell_type": "markdown",
   "metadata": {
    "colab_type": "text",
    "id": "view-in-github"
   },
   "source": [
    "<a href=\"https://colab.research.google.com/github/lmendezayl/uba-ldd-tp2/blob/main/TP2.ipynb\" target=\"_parent\"><img src=\"https://colab.research.google.com/assets/colab-badge.svg\" alt=\"Open In Colab\"/></a>"
   ]
  },
  {
   "cell_type": "markdown",
   "metadata": {
    "id": "P9thIV0bDZA-"
   },
   "source": [
    "# Trabajo Práctico N°2\n",
    "\n",
    "Integrantes:\n",
    "- Lautaro Evaristo Mendez\n",
    "- Franco Zalazar\n",
    "- Luca Emilio Petrarca"
   ]
  },
  {
   "cell_type": "markdown",
   "metadata": {
    "id": "TozHnBq8pUny"
   },
   "source": [
    "\n",
    "\n",
    "*- In god we trust, all others must bring data.*\n",
    "\n",
    "*W. E. Demings*\n",
    "\n",
    "\n",
    "\n",
    "\n"
   ]
  },
  {
   "cell_type": "code",
   "execution_count": 42,
   "metadata": {
    "id": "I7T0WAVFraop"
   },
   "outputs": [],
   "source": [
    "import numpy as np\n",
    "import pandas as pd\n",
    "import matplotlib.pyplot as plt\n",
    "import seaborn.objects as so\n",
    "import nltk\n",
    "\n",
    "from nltk.corpus import stopwords\n",
    "from nltk.stem import SnowballStemmer\n",
    "from nltk.tokenize import word_tokenize\n",
    "\n",
    "from sklearn.datasets import make_blobs, make_circles\n",
    "from sklearn.preprocessing import MinMaxScaler, StandardScaler\n",
    "from sklearn.cluster import KMeans, DBSCAN\n",
    "from sklearn.feature_extraction.text import TfidfVectorizer, CountVectorizer\n",
    "from sklearn.decomposition import PCA\n",
    "from sklearn.neighbors import KNeighborsClassifier\n",
    "from sklearn.metrics import confusion_matrix\n",
    "from sklearn.metrics import accuracy_score\n",
    "from sklearn.model_selection import train_test_split"
   ]
  },
  {
   "cell_type": "markdown",
   "metadata": {
    "id": "xwz8P-rpDCbu"
   },
   "source": [
    "## Clustering [4 pts.]\n"
   ]
  },
  {
   "cell_type": "markdown",
   "metadata": {
    "id": "d4Aulx5ypKDU"
   },
   "source": [
    "\n",
    "Nuestro primer objetivo es realizar un agrupamiento de las noticias de deportes por temas. En este caso, no tenemos una respuesta correcta que queremos predecir. Queremos realizar un agrupamiento y ver si podemos identificar temas en los grupos que obtenemos.\n"
   ]
  },
  {
   "cell_type": "markdown",
   "metadata": {
    "id": "F_zzwBezpAQy"
   },
   "source": [
    "\n",
    "**Bag-of-words** Queremos generar primero columnas indicadoras de las palabras que aparecen en el texto, una columna por cada palabra. Este enfoque tan simple tiene el problema de que la misma palabra pero en singular/plural o un verbo en distintos tiempos verbales serían identificados como palabras distintas, y tendríamos demasiadas palabras y pocas repeticiones. Para evitar esto, una técnica común es utilizar las raíces de las palabras (stems). Por ejemplo, las raíces de las palabras ”comida” y ”comer” será ”com” (esto puede generar algunas identificaciones incorrectas pero en general funciona bastante bien). Para obtener las raíces de las palabras vamos a usar SnowballStemmer de la biblioteca nltk. Otro problema es que palabras que funcionan como conectores (por ejemplo because, any, above, ...) no aportan información sobre el contenido del texto y es conveniente eliminarlas. En inglés, en el contexto de modelos de lenguaje, estas palabras se llaman stop words (son palabras que queremos frenar antes de procesar los textos). La biblioteca `nltk` provee un listado de stop words que podemos utilizar.\n"
   ]
  },
  {
   "cell_type": "markdown",
   "metadata": {
    "id": "IWwTB7V_my8n"
   },
   "source": [
    "\n",
    "### Ejercicio 1.\n",
    "Cargar en un DataFrame `df_news` los datos del archivo noticias.csv.\n"
   ]
  },
  {
   "cell_type": "code",
   "execution_count": 2,
   "metadata": {
    "id": "eqkCbXTVr2Ug"
   },
   "outputs": [],
   "source": [
    "# Manejo de load en local u online\n",
    "try:\n",
    "    df_news = pd.read_csv('noticias.csv')\n",
    "except:\n",
    "    df_news = pd.read_csv('https://raw.githubusercontent.com/lmendezayl/uba-ldd-tp2/refs/heads/main/noticias.csv')"
   ]
  },
  {
   "cell_type": "code",
   "execution_count": 3,
   "metadata": {
    "colab": {
     "base_uri": "https://localhost:8080/",
     "height": 143
    },
    "id": "5T7JrLqusVd6",
    "outputId": "ab5873f9-ee87-4857-9085-e4fa818256aa"
   },
   "outputs": [
    {
     "data": {
      "text/html": [
       "<div>\n",
       "<style scoped>\n",
       "    .dataframe tbody tr th:only-of-type {\n",
       "        vertical-align: middle;\n",
       "    }\n",
       "\n",
       "    .dataframe tbody tr th {\n",
       "        vertical-align: top;\n",
       "    }\n",
       "\n",
       "    .dataframe thead th {\n",
       "        text-align: right;\n",
       "    }\n",
       "</style>\n",
       "<table border=\"1\" class=\"dataframe\">\n",
       "  <thead>\n",
       "    <tr style=\"text-align: right;\">\n",
       "      <th></th>\n",
       "      <th>title</th>\n",
       "      <th>content</th>\n",
       "      <th>category</th>\n",
       "    </tr>\n",
       "  </thead>\n",
       "  <tbody>\n",
       "    <tr>\n",
       "      <th>0</th>\n",
       "      <td>Ad sales boost Time Warner profit</td>\n",
       "      <td>Quarterly profits at US media giant TimeWarner...</td>\n",
       "      <td>business</td>\n",
       "    </tr>\n",
       "    <tr>\n",
       "      <th>1</th>\n",
       "      <td>Dollar gains on Greenspan speech</td>\n",
       "      <td>The dollar has hit its highest level against t...</td>\n",
       "      <td>business</td>\n",
       "    </tr>\n",
       "    <tr>\n",
       "      <th>2</th>\n",
       "      <td>Yukos unit buyer faces loan claim</td>\n",
       "      <td>The owners of embattled Russian oil giant Yuko...</td>\n",
       "      <td>business</td>\n",
       "    </tr>\n",
       "  </tbody>\n",
       "</table>\n",
       "</div>"
      ],
      "text/plain": [
       "                               title  \\\n",
       "0  Ad sales boost Time Warner profit   \n",
       "1   Dollar gains on Greenspan speech   \n",
       "2  Yukos unit buyer faces loan claim   \n",
       "\n",
       "                                             content  category  \n",
       "0  Quarterly profits at US media giant TimeWarner...  business  \n",
       "1  The dollar has hit its highest level against t...  business  \n",
       "2  The owners of embattled Russian oil giant Yuko...  business  "
      ]
     },
     "execution_count": 3,
     "metadata": {},
     "output_type": "execute_result"
    }
   ],
   "source": [
    "# Mostramos el dataframe\n",
    "df_news.head(3)"
   ]
  },
  {
   "cell_type": "markdown",
   "metadata": {
    "id": "FEGfrNczm0DU"
   },
   "source": [
    "\n",
    "### Ejercicio 2.\n",
    "Crear un DataFrame `df_sports` que contenga solo las noticias de la categoría deportes, y resetear los índices.\n"
   ]
  },
  {
   "cell_type": "markdown",
   "metadata": {
    "id": "lc66np26sggV"
   },
   "source": [
    "Veamos como se llaman especificamente las categorias."
   ]
  },
  {
   "cell_type": "code",
   "execution_count": 4,
   "metadata": {
    "colab": {
     "base_uri": "https://localhost:8080/"
    },
    "id": "VfYxgwwNsa-0",
    "outputId": "b9d54e84-ac5d-46fc-9beb-258eca70de7d"
   },
   "outputs": [
    {
     "data": {
      "text/plain": [
       "array(['business', 'entertainment', 'politics', 'sport', 'tech'],\n",
       "      dtype=object)"
      ]
     },
     "execution_count": 4,
     "metadata": {},
     "output_type": "execute_result"
    }
   ],
   "source": [
    "df_news.category.unique()"
   ]
  },
  {
   "cell_type": "markdown",
   "metadata": {
    "id": "r8s4rbIFsj7E"
   },
   "source": [
    "Elegimos las noticias que pide el ejericio."
   ]
  },
  {
   "cell_type": "code",
   "execution_count": 8,
   "metadata": {
    "colab": {
     "base_uri": "https://localhost:8080/",
     "height": 143
    },
    "id": "R4cTVdZytfD5",
    "outputId": "b5b30d67-4dcd-48e9-8b94-de46bfdfc3ea"
   },
   "outputs": [
    {
     "data": {
      "text/html": [
       "<div>\n",
       "<style scoped>\n",
       "    .dataframe tbody tr th:only-of-type {\n",
       "        vertical-align: middle;\n",
       "    }\n",
       "\n",
       "    .dataframe tbody tr th {\n",
       "        vertical-align: top;\n",
       "    }\n",
       "\n",
       "    .dataframe thead th {\n",
       "        text-align: right;\n",
       "    }\n",
       "</style>\n",
       "<table border=\"1\" class=\"dataframe\">\n",
       "  <thead>\n",
       "    <tr style=\"text-align: right;\">\n",
       "      <th></th>\n",
       "      <th>title</th>\n",
       "      <th>content</th>\n",
       "      <th>category</th>\n",
       "    </tr>\n",
       "  </thead>\n",
       "  <tbody>\n",
       "    <tr>\n",
       "      <th>0</th>\n",
       "      <td>Claxton hunting first major medal</td>\n",
       "      <td>British hurdler Sarah Claxton is confident she...</td>\n",
       "      <td>sport</td>\n",
       "    </tr>\n",
       "    <tr>\n",
       "      <th>1</th>\n",
       "      <td>O'Sullivan could run in Worlds</td>\n",
       "      <td>Sonia O'Sullivan has indicated that she would ...</td>\n",
       "      <td>sport</td>\n",
       "    </tr>\n",
       "    <tr>\n",
       "      <th>2</th>\n",
       "      <td>Greene sets sights on world title</td>\n",
       "      <td>Maurice Greene aims to wipe out the pain of lo...</td>\n",
       "      <td>sport</td>\n",
       "    </tr>\n",
       "  </tbody>\n",
       "</table>\n",
       "</div>"
      ],
      "text/plain": [
       "                               title  \\\n",
       "0  Claxton hunting first major medal   \n",
       "1     O'Sullivan could run in Worlds   \n",
       "2  Greene sets sights on world title   \n",
       "\n",
       "                                             content category  \n",
       "0  British hurdler Sarah Claxton is confident she...    sport  \n",
       "1  Sonia O'Sullivan has indicated that she would ...    sport  \n",
       "2  Maurice Greene aims to wipe out the pain of lo...    sport  "
      ]
     },
     "execution_count": 8,
     "metadata": {},
     "output_type": "execute_result"
    }
   ],
   "source": [
    "df_sports = df_news[df_news['category'] == 'sport'].reset_index().drop(columns='index')\n",
    "df_sports.head(3)"
   ]
  },
  {
   "cell_type": "markdown",
   "metadata": {
    "id": "9zi3aHmwm1Lk"
   },
   "source": [
    "\n",
    "### Ejercicio 3.\n",
    "Generar un DataFrame `df_sports_stems` que contenga una columna por cada stem que aparece en los contenidos de las noticias de deportes, excluyendo las stop words. Para cada noticia, cada columna indica la cantidad de veces que aparece esa palabra en la noticia. Pueden utilizar el siguiente código.\n"
   ]
  },
  {
   "cell_type": "code",
   "execution_count": 23,
   "metadata": {
    "colab": {
     "base_uri": "https://localhost:8080/"
    },
    "id": "3F_l_AMsiYNr",
    "outputId": "43502661-c6d4-4ba0-e171-46a98d346f93"
   },
   "outputs": [
    {
     "name": "stderr",
     "output_type": "stream",
     "text": [
      "[nltk_data] Downloading package stopwords to\n",
      "[nltk_data]     C:\\Users\\lucap\\AppData\\Roaming\\nltk_data...\n",
      "[nltk_data]   Package stopwords is already up-to-date!\n",
      "[nltk_data] Downloading package punkt to\n",
      "[nltk_data]     C:\\Users\\lucap\\AppData\\Roaming\\nltk_data...\n",
      "[nltk_data]   Package punkt is already up-to-date!\n"
     ]
    }
   ],
   "source": [
    "nltk.download(\"stopwords\")\n",
    "nltk.download('punkt')  #Nota para los muchachos: decia punkt_tab pero a mi me corrio una vez que saque el tab. Atte: Luca.\n",
    "stop_words = set(stopwords.words(\"english\"))\n",
    "stemmer = SnowballStemmer(language = \"english\")\n",
    "# Generamos una lista con todos los stems de palabras del texto\n",
    "# (excluyendo stop words y palabras que tienen numeros o simbolos)\n",
    "\n",
    "def tokenize_and_stem(text):\n",
    "    tokens = word_tokenize(text.lower())\n",
    "    stems = [stemmer.stem(token) for token in tokens if (token.isalpha() and token not in stop_words)]\n",
    "    return stems\n",
    "vectorizer = CountVectorizer(analyzer=tokenize_and_stem)\n",
    "X = vectorizer.fit_transform(df_sports[\"content\"])\n",
    "df_sports_stems = pd.DataFrame(X.toarray(), columns=vectorizer.get_feature_names_out())"
   ]
  },
  {
   "cell_type": "markdown",
   "metadata": {
    "id": "y6eLmH633pxG"
   },
   "source": [
    "Visualizamos `df_sports_stems`"
   ]
  },
  {
   "cell_type": "code",
   "execution_count": 24,
   "metadata": {
    "colab": {
     "base_uri": "https://localhost:8080/",
     "height": 273
    },
    "id": "xblapfsE3ude",
    "outputId": "155f8b41-1d6e-40a0-8bf8-30aeece36cb2"
   },
   "outputs": [
    {
     "name": "stdout",
     "output_type": "stream",
     "text": [
      "(511, 7193)\n"
     ]
    },
    {
     "data": {
      "text/html": [
       "<div>\n",
       "<style scoped>\n",
       "    .dataframe tbody tr th:only-of-type {\n",
       "        vertical-align: middle;\n",
       "    }\n",
       "\n",
       "    .dataframe tbody tr th {\n",
       "        vertical-align: top;\n",
       "    }\n",
       "\n",
       "    .dataframe thead th {\n",
       "        text-align: right;\n",
       "    }\n",
       "</style>\n",
       "<table border=\"1\" class=\"dataframe\">\n",
       "  <thead>\n",
       "    <tr style=\"text-align: right;\">\n",
       "      <th></th>\n",
       "      <th>aaa</th>\n",
       "      <th>aac</th>\n",
       "      <th>aaron</th>\n",
       "      <th>abandon</th>\n",
       "      <th>abat</th>\n",
       "      <th>abbott</th>\n",
       "      <th>abc</th>\n",
       "      <th>abdomen</th>\n",
       "      <th>abdomin</th>\n",
       "      <th>abeb</th>\n",
       "      <th>...</th>\n",
       "      <th>zimbabw</th>\n",
       "      <th>zinc</th>\n",
       "      <th>zinedin</th>\n",
       "      <th>zoe</th>\n",
       "      <th>zola</th>\n",
       "      <th>zone</th>\n",
       "      <th>zornotza</th>\n",
       "      <th>zuluaga</th>\n",
       "      <th>zurich</th>\n",
       "      <th>zvonareva</th>\n",
       "    </tr>\n",
       "  </thead>\n",
       "  <tbody>\n",
       "    <tr>\n",
       "      <th>0</th>\n",
       "      <td>1</td>\n",
       "      <td>0</td>\n",
       "      <td>0</td>\n",
       "      <td>0</td>\n",
       "      <td>0</td>\n",
       "      <td>0</td>\n",
       "      <td>0</td>\n",
       "      <td>0</td>\n",
       "      <td>0</td>\n",
       "      <td>0</td>\n",
       "      <td>...</td>\n",
       "      <td>0</td>\n",
       "      <td>0</td>\n",
       "      <td>0</td>\n",
       "      <td>0</td>\n",
       "      <td>0</td>\n",
       "      <td>0</td>\n",
       "      <td>0</td>\n",
       "      <td>0</td>\n",
       "      <td>0</td>\n",
       "      <td>0</td>\n",
       "    </tr>\n",
       "    <tr>\n",
       "      <th>1</th>\n",
       "      <td>0</td>\n",
       "      <td>0</td>\n",
       "      <td>0</td>\n",
       "      <td>0</td>\n",
       "      <td>0</td>\n",
       "      <td>0</td>\n",
       "      <td>0</td>\n",
       "      <td>0</td>\n",
       "      <td>0</td>\n",
       "      <td>0</td>\n",
       "      <td>...</td>\n",
       "      <td>0</td>\n",
       "      <td>0</td>\n",
       "      <td>0</td>\n",
       "      <td>0</td>\n",
       "      <td>0</td>\n",
       "      <td>0</td>\n",
       "      <td>0</td>\n",
       "      <td>0</td>\n",
       "      <td>0</td>\n",
       "      <td>0</td>\n",
       "    </tr>\n",
       "    <tr>\n",
       "      <th>2</th>\n",
       "      <td>0</td>\n",
       "      <td>0</td>\n",
       "      <td>0</td>\n",
       "      <td>0</td>\n",
       "      <td>0</td>\n",
       "      <td>0</td>\n",
       "      <td>0</td>\n",
       "      <td>0</td>\n",
       "      <td>0</td>\n",
       "      <td>0</td>\n",
       "      <td>...</td>\n",
       "      <td>0</td>\n",
       "      <td>0</td>\n",
       "      <td>0</td>\n",
       "      <td>0</td>\n",
       "      <td>0</td>\n",
       "      <td>0</td>\n",
       "      <td>0</td>\n",
       "      <td>0</td>\n",
       "      <td>0</td>\n",
       "      <td>0</td>\n",
       "    </tr>\n",
       "    <tr>\n",
       "      <th>3</th>\n",
       "      <td>0</td>\n",
       "      <td>0</td>\n",
       "      <td>0</td>\n",
       "      <td>0</td>\n",
       "      <td>0</td>\n",
       "      <td>0</td>\n",
       "      <td>0</td>\n",
       "      <td>0</td>\n",
       "      <td>0</td>\n",
       "      <td>0</td>\n",
       "      <td>...</td>\n",
       "      <td>0</td>\n",
       "      <td>0</td>\n",
       "      <td>0</td>\n",
       "      <td>0</td>\n",
       "      <td>0</td>\n",
       "      <td>0</td>\n",
       "      <td>0</td>\n",
       "      <td>0</td>\n",
       "      <td>0</td>\n",
       "      <td>0</td>\n",
       "    </tr>\n",
       "    <tr>\n",
       "      <th>4</th>\n",
       "      <td>0</td>\n",
       "      <td>0</td>\n",
       "      <td>0</td>\n",
       "      <td>0</td>\n",
       "      <td>0</td>\n",
       "      <td>0</td>\n",
       "      <td>0</td>\n",
       "      <td>0</td>\n",
       "      <td>0</td>\n",
       "      <td>0</td>\n",
       "      <td>...</td>\n",
       "      <td>0</td>\n",
       "      <td>0</td>\n",
       "      <td>0</td>\n",
       "      <td>0</td>\n",
       "      <td>0</td>\n",
       "      <td>0</td>\n",
       "      <td>0</td>\n",
       "      <td>0</td>\n",
       "      <td>0</td>\n",
       "      <td>0</td>\n",
       "    </tr>\n",
       "  </tbody>\n",
       "</table>\n",
       "<p>5 rows × 7193 columns</p>\n",
       "</div>"
      ],
      "text/plain": [
       "   aaa  aac  aaron  abandon  abat  abbott  abc  abdomen  abdomin  abeb  ...  \\\n",
       "0    1    0      0        0     0       0    0        0        0     0  ...   \n",
       "1    0    0      0        0     0       0    0        0        0     0  ...   \n",
       "2    0    0      0        0     0       0    0        0        0     0  ...   \n",
       "3    0    0      0        0     0       0    0        0        0     0  ...   \n",
       "4    0    0      0        0     0       0    0        0        0     0  ...   \n",
       "\n",
       "   zimbabw  zinc  zinedin  zoe  zola  zone  zornotza  zuluaga  zurich  \\\n",
       "0        0     0        0    0     0     0         0        0       0   \n",
       "1        0     0        0    0     0     0         0        0       0   \n",
       "2        0     0        0    0     0     0         0        0       0   \n",
       "3        0     0        0    0     0     0         0        0       0   \n",
       "4        0     0        0    0     0     0         0        0       0   \n",
       "\n",
       "   zvonareva  \n",
       "0          0  \n",
       "1          0  \n",
       "2          0  \n",
       "3          0  \n",
       "4          0  \n",
       "\n",
       "[5 rows x 7193 columns]"
      ]
     },
     "execution_count": 24,
     "metadata": {},
     "output_type": "execute_result"
    }
   ],
   "source": [
    "print(df_sports_stems.shape)\n",
    "df_sports_stems.head()"
   ]
  },
  {
   "cell_type": "markdown",
   "metadata": {
    "id": "rxHdLxbsiaOU"
   },
   "source": [
    "\n",
    "### Ejercicio 4. Visualización.\n",
    "Para poder visualizar las noticias y ver si se forman grupos de noticias, calcular las dos primeras componentes principales $Z_1$ y $Z_2$ del DataFrame `df_sports_stems` y realizar un gráfico de dispersión de $Z_1$ vs. $Z_2$.\n"
   ]
  },
  {
   "cell_type": "code",
   "execution_count": 14,
   "metadata": {
    "colab": {
     "base_uri": "https://localhost:8080/",
     "height": 395
    },
    "id": "9grrkBMn1TJf",
    "outputId": "f0c7e1c5-fdf3-4f41-99a2-06e1ed5f4593"
   },
   "outputs": [
    {
     "data": {
      "image/png": "[encoded data removed]",
      "text/plain": [
       "<seaborn._core.plot.Plot at 0x230052d8a70>"
      ]
     },
     "execution_count": 14,
     "metadata": {
      "image/png": {
       "height": 378.25,
       "width": 509.15
      }
     },
     "output_type": "execute_result"
    }
   ],
   "source": [
    "# Escalamos a media 0 con distibución normal\n",
    "df_ss_scaled = StandardScaler().set_output(transform=\"pandas\").fit_transform(df_sports_stems)\n",
    "\n",
    "# Aplicamos PCA\n",
    "pca = PCA(n_components=2)\n",
    "\n",
    "# Calculamos los Z1 y Z2\n",
    "principalComponents = pca.fit_transform(df_ss_scaled)\n",
    "\n",
    "# Realizamos grafico de dispersión\n",
    "(\n",
    "    so.Plot(x = principalComponents[:,0], y = principalComponents[:,1])\n",
    "    .add(so.Dot())\n",
    "    .label(title='Componentes principales de bag of words sobre noticias deportes', x= \"Z1\", y = \"Z2\")\n",
    "    # agregar nombre, prettify\n",
    ")"
   ]
  },
  {
   "cell_type": "markdown",
   "metadata": {
    "id": "5g65PkSpm3m1"
   },
   "source": [
    "\n",
    "### Ejercicio 5.\n",
    "¿Pueden observar grupos en esta visualización? ¿Cuál puede ser el problema?\n"
   ]
  },
  {
   "cell_type": "markdown",
   "metadata": {
    "id": "yU-c3Hm0o92Y"
   },
   "source": [
    "\n",
    "**TF-IDF.** El enfoque bag-of-words es demasiado simple. Hay palabras que aparecen mucho en los textos (como por ejemplo ”today” o ”say”) que no sirven para relacionar artículos con temáticas parecidas. Queremos darle poco peso a estas palabras. Por el contrario, si una palabra aparece en solo 3 noticias, podemos imaginar que esas 3 noticias están relacionadas. Queremos darle más peso a palabras poco frecuentes.\n",
    "\n",
    "Una métrica usual que da muy buenos resultados es la llamada TF-IDF.\n",
    "El término TF (term frequency) es la frecuencia de la palabra en el texto, normalizada:\n",
    "\n",
    "$$\\text{TF}(t, d) = \\frac{\\text{cantidad de veces que la palabra } t \\text{ aparece en el texto } d}{||\\text{vector de frecuencias del documento } d||_2}$$\n",
    "\n",
    "donde el denominador es $\\sqrt{\\sum_{t′} f^2_{t′,d}} $,  la raíz cuadrada de la suma de los cuadrados de las frecuencias de todos los términos en el documento $d$ (similar a la cantidad total de palabras en el texto). El término IDF (inverse document frequency) es el logaritmo del cociente entre el total de documentos y el número de documentos que contienen un término, más uno:\n",
    "\n",
    "$$\n",
    "\\text{IDF}(t, D) = log\\left(\\frac{\\text{número total de documentos en el corpus } D}{ \\text{cantidad de documentos en el corpus } D \\text{ que tienen la palabra }t}\\right) + 1\n",
    "$$\n",
    "\n",
    "Finalmente, definimos\n",
    "$$\\text{TF-IDF}(t, d, D) = \\text{TF}(t, d) × \\text{IDF}(t, D)$$\n",
    "Esta métrica no es difícil de calcular a partir de las variables que ya calculamos, pero podemos también hacerlo automáticamente a través del comando `TfidfVectorizer`.\n"
   ]
  },
  {
   "cell_type": "markdown",
   "metadata": {
    "id": "ZWlxFEdDm5M8"
   },
   "source": [
    "\n",
    "### Ejercicio 6.\n",
    "Generar un DataFrame `df_sports_tfidf` que contenga una columna por cada stem que aparece en los contenidos de las noticias de deportes. Para cada noticia, cada columna indica el valor de TF-IDF. Pueden utilizar el siguiente código.\n"
   ]
  },
  {
   "cell_type": "code",
   "execution_count": 15,
   "metadata": {
    "colab": {
     "base_uri": "https://localhost:8080/",
     "height": 255
    },
    "id": "L5FzGrSIluF7",
    "outputId": "0acceaff-07ed-43f5-9976-384fd65563b3"
   },
   "outputs": [
    {
     "data": {
      "text/html": [
       "<div>\n",
       "<style scoped>\n",
       "    .dataframe tbody tr th:only-of-type {\n",
       "        vertical-align: middle;\n",
       "    }\n",
       "\n",
       "    .dataframe tbody tr th {\n",
       "        vertical-align: top;\n",
       "    }\n",
       "\n",
       "    .dataframe thead th {\n",
       "        text-align: right;\n",
       "    }\n",
       "</style>\n",
       "<table border=\"1\" class=\"dataframe\">\n",
       "  <thead>\n",
       "    <tr style=\"text-align: right;\">\n",
       "      <th></th>\n",
       "      <th>aaa</th>\n",
       "      <th>aac</th>\n",
       "      <th>aaron</th>\n",
       "      <th>abandon</th>\n",
       "      <th>abat</th>\n",
       "      <th>abbott</th>\n",
       "      <th>abc</th>\n",
       "      <th>abdomen</th>\n",
       "      <th>abdomin</th>\n",
       "      <th>abeb</th>\n",
       "      <th>...</th>\n",
       "      <th>zimbabw</th>\n",
       "      <th>zinc</th>\n",
       "      <th>zinedin</th>\n",
       "      <th>zoe</th>\n",
       "      <th>zola</th>\n",
       "      <th>zone</th>\n",
       "      <th>zornotza</th>\n",
       "      <th>zuluaga</th>\n",
       "      <th>zurich</th>\n",
       "      <th>zvonareva</th>\n",
       "    </tr>\n",
       "  </thead>\n",
       "  <tbody>\n",
       "    <tr>\n",
       "      <th>0</th>\n",
       "      <td>0.090095</td>\n",
       "      <td>0.0</td>\n",
       "      <td>0.0</td>\n",
       "      <td>0.0</td>\n",
       "      <td>0.0</td>\n",
       "      <td>0.0</td>\n",
       "      <td>0.0</td>\n",
       "      <td>0.0</td>\n",
       "      <td>0.0</td>\n",
       "      <td>0.0</td>\n",
       "      <td>...</td>\n",
       "      <td>0.0</td>\n",
       "      <td>0.0</td>\n",
       "      <td>0.0</td>\n",
       "      <td>0.0</td>\n",
       "      <td>0.0</td>\n",
       "      <td>0.0</td>\n",
       "      <td>0.0</td>\n",
       "      <td>0.0</td>\n",
       "      <td>0.0</td>\n",
       "      <td>0.0</td>\n",
       "    </tr>\n",
       "    <tr>\n",
       "      <th>1</th>\n",
       "      <td>0.000000</td>\n",
       "      <td>0.0</td>\n",
       "      <td>0.0</td>\n",
       "      <td>0.0</td>\n",
       "      <td>0.0</td>\n",
       "      <td>0.0</td>\n",
       "      <td>0.0</td>\n",
       "      <td>0.0</td>\n",
       "      <td>0.0</td>\n",
       "      <td>0.0</td>\n",
       "      <td>...</td>\n",
       "      <td>0.0</td>\n",
       "      <td>0.0</td>\n",
       "      <td>0.0</td>\n",
       "      <td>0.0</td>\n",
       "      <td>0.0</td>\n",
       "      <td>0.0</td>\n",
       "      <td>0.0</td>\n",
       "      <td>0.0</td>\n",
       "      <td>0.0</td>\n",
       "      <td>0.0</td>\n",
       "    </tr>\n",
       "    <tr>\n",
       "      <th>2</th>\n",
       "      <td>0.000000</td>\n",
       "      <td>0.0</td>\n",
       "      <td>0.0</td>\n",
       "      <td>0.0</td>\n",
       "      <td>0.0</td>\n",
       "      <td>0.0</td>\n",
       "      <td>0.0</td>\n",
       "      <td>0.0</td>\n",
       "      <td>0.0</td>\n",
       "      <td>0.0</td>\n",
       "      <td>...</td>\n",
       "      <td>0.0</td>\n",
       "      <td>0.0</td>\n",
       "      <td>0.0</td>\n",
       "      <td>0.0</td>\n",
       "      <td>0.0</td>\n",
       "      <td>0.0</td>\n",
       "      <td>0.0</td>\n",
       "      <td>0.0</td>\n",
       "      <td>0.0</td>\n",
       "      <td>0.0</td>\n",
       "    </tr>\n",
       "    <tr>\n",
       "      <th>3</th>\n",
       "      <td>0.000000</td>\n",
       "      <td>0.0</td>\n",
       "      <td>0.0</td>\n",
       "      <td>0.0</td>\n",
       "      <td>0.0</td>\n",
       "      <td>0.0</td>\n",
       "      <td>0.0</td>\n",
       "      <td>0.0</td>\n",
       "      <td>0.0</td>\n",
       "      <td>0.0</td>\n",
       "      <td>...</td>\n",
       "      <td>0.0</td>\n",
       "      <td>0.0</td>\n",
       "      <td>0.0</td>\n",
       "      <td>0.0</td>\n",
       "      <td>0.0</td>\n",
       "      <td>0.0</td>\n",
       "      <td>0.0</td>\n",
       "      <td>0.0</td>\n",
       "      <td>0.0</td>\n",
       "      <td>0.0</td>\n",
       "    </tr>\n",
       "    <tr>\n",
       "      <th>4</th>\n",
       "      <td>0.000000</td>\n",
       "      <td>0.0</td>\n",
       "      <td>0.0</td>\n",
       "      <td>0.0</td>\n",
       "      <td>0.0</td>\n",
       "      <td>0.0</td>\n",
       "      <td>0.0</td>\n",
       "      <td>0.0</td>\n",
       "      <td>0.0</td>\n",
       "      <td>0.0</td>\n",
       "      <td>...</td>\n",
       "      <td>0.0</td>\n",
       "      <td>0.0</td>\n",
       "      <td>0.0</td>\n",
       "      <td>0.0</td>\n",
       "      <td>0.0</td>\n",
       "      <td>0.0</td>\n",
       "      <td>0.0</td>\n",
       "      <td>0.0</td>\n",
       "      <td>0.0</td>\n",
       "      <td>0.0</td>\n",
       "    </tr>\n",
       "  </tbody>\n",
       "</table>\n",
       "<p>5 rows × 7193 columns</p>\n",
       "</div>"
      ],
      "text/plain": [
       "        aaa  aac  aaron  abandon  abat  abbott  abc  abdomen  abdomin  abeb  \\\n",
       "0  0.090095  0.0    0.0      0.0   0.0     0.0  0.0      0.0      0.0   0.0   \n",
       "1  0.000000  0.0    0.0      0.0   0.0     0.0  0.0      0.0      0.0   0.0   \n",
       "2  0.000000  0.0    0.0      0.0   0.0     0.0  0.0      0.0      0.0   0.0   \n",
       "3  0.000000  0.0    0.0      0.0   0.0     0.0  0.0      0.0      0.0   0.0   \n",
       "4  0.000000  0.0    0.0      0.0   0.0     0.0  0.0      0.0      0.0   0.0   \n",
       "\n",
       "   ...  zimbabw  zinc  zinedin  zoe  zola  zone  zornotza  zuluaga  zurich  \\\n",
       "0  ...      0.0   0.0      0.0  0.0   0.0   0.0       0.0      0.0     0.0   \n",
       "1  ...      0.0   0.0      0.0  0.0   0.0   0.0       0.0      0.0     0.0   \n",
       "2  ...      0.0   0.0      0.0  0.0   0.0   0.0       0.0      0.0     0.0   \n",
       "3  ...      0.0   0.0      0.0  0.0   0.0   0.0       0.0      0.0     0.0   \n",
       "4  ...      0.0   0.0      0.0  0.0   0.0   0.0       0.0      0.0     0.0   \n",
       "\n",
       "   zvonareva  \n",
       "0        0.0  \n",
       "1        0.0  \n",
       "2        0.0  \n",
       "3        0.0  \n",
       "4        0.0  \n",
       "\n",
       "[5 rows x 7193 columns]"
      ]
     },
     "execution_count": 15,
     "metadata": {},
     "output_type": "execute_result"
    }
   ],
   "source": [
    "# Text vectorization using TF-IDF\n",
    "vectorizer = TfidfVectorizer(analyzer=tokenize_and_stem, smooth_idf=False)\n",
    "X = vectorizer.fit_transform(df_sports[\"content\"])\n",
    "df_sports_tfidf = pd.DataFrame(X.toarray(), columns=vectorizer.get_feature_names_out())\n",
    "df_sports_tfidf.head()"
   ]
  },
  {
   "cell_type": "markdown",
   "metadata": {
    "id": "qjaKigy5lv6M"
   },
   "source": [
    "\n",
    "### O1. (Opcional.)\n",
    "Para la raíz ***abandon***, calcular mediante funciones usuales el valor de TF-IDF para la noticia deportiva 246 (con título ***Real will finish abandoned match***). Comparar el valor en la tabla generada\n",
    " con el valor que obtuvieron a mano en el ítem anterior.\n"
   ]
  },
  {
   "cell_type": "markdown",
   "metadata": {
    "id": "RK_1QYpao8s8"
   },
   "source": [
    "\n",
    "### Ejercicio 7. Visualización.\n",
    "Calcular las dos primeras componentes principales $Z_1$ y $Z_2$ del DataFrame\n",
    "`df_sports_tfidf` y realizar un gráfico de dispersión de $Z_1$ vs. $Z_2$. ¿Pueden observar agrupamientos en esta visualización?\n"
   ]
  },
  {
   "cell_type": "code",
   "execution_count": 16,
   "metadata": {
    "colab": {
     "base_uri": "https://localhost:8080/",
     "height": 395
    },
    "id": "xAOH7ZBpECJZ",
    "outputId": "a5a15c5c-f119-4e5d-9d0e-c7da8e6690e7"
   },
   "outputs": [
    {
     "data": {
      "image/png": "[encoded data removed]",
      "text/plain": [
       "<seaborn._core.plot.Plot at 0x2300f734bc0>"
      ]
     },
     "execution_count": 16,
     "metadata": {
      "image/png": {
       "height": 378.25,
       "width": 509.15
      }
     },
     "output_type": "execute_result"
    }
   ],
   "source": [
    "# Escalamos a media 0 con distibución normal\n",
    "df_sports_scaled_tfidf = StandardScaler().set_output(transform=\"pandas\").fit_transform(df_sports_tfidf)\n",
    "\n",
    "# Aplicamos PCA\n",
    "pca = PCA(n_components=15)\n",
    "\n",
    "# Calculamos los Z1 y Z2\n",
    "principalComponents = pca.fit_transform(df_sports_scaled_tfidf)\n",
    "\n",
    "# Realizamos grafico de dispersión\n",
    "(\n",
    "    so.Plot(x = principalComponents[:,0], y = principalComponents[:,1])\n",
    "    .add(so.Dot())\n",
    "    .label(title='Componentes principales TF-IDF', x= \"Z1\", y = \"Z2\")\n",
    "    # agregar nombre, prettify\n",
    ")"
   ]
  },
  {
   "cell_type": "markdown",
   "metadata": {
    "id": "DlLAzty-o8AH"
   },
   "source": [
    "\n",
    "### Ejercicio 8. Clustering.\n",
    "Realizar un agrupamiento de los datos por algún método de clustering entre los\n",
    "vistos en clase (K-means o DB-scan). Utilizar todas las columnas de datos (no las componentes principales), seleccionado los hiperparámetros por algún mecanismo que consideren apropiado.\n"
   ]
  },
  {
   "cell_type": "code",
   "execution_count": 20,
   "metadata": {
    "colab": {
     "base_uri": "https://localhost:8080/",
     "height": 472
    },
    "id": "SfdQKZLDlGPd",
    "outputId": "f33fd97d-af77-47e7-9d93-37df2a4c73a8"
   },
   "outputs": [],
   "source": [
    "from sklearn.cluster import KMeans\n",
    "\n",
    "data = df_sports_tfidf\n",
    "inertias = []\n",
    "max_clusters = 60\n",
    "\n",
    "for i in range(1,max_clusters):\n",
    "    kmeans = KMeans(n_clusters=i)\n",
    "    kmeans.fit(data)\n",
    "    inertias.append(kmeans.inertia_)\n",
    "\n",
    "plt.plot(range(1,max_clusters), inertias, marker='o')\n",
    "plt.title('Método del codo')\n",
    "plt.xlabel('Number of clusters')\n",
    "plt.ylabel('Inertia')\n",
    "plt.show()"
   ]
  },
  {
   "cell_type": "code",
   "execution_count": 25,
   "metadata": {
    "id": "MCLbNZF_mmVS"
   },
   "outputs": [],
   "source": [
    "# en 3 parece haber un cambio notable en la derivada\n",
    "kmeans = KMeans(n_clusters=3)\n",
    "kmeans.fit(data)\n",
    "\n",
    "labels = [str(label) for label in kmeans.labels_]\n"
   ]
  },
  {
   "cell_type": "markdown",
   "metadata": {
    "id": "PPz3hLnAo7Ku"
   },
   "source": [
    "\n",
    "### Ejercicio 9.\n",
    "Colorear los puntos del gráfico de dispersión de PCA según las etiquetas de los clusters. ¿Quedan los puntos de cada cluster ubicados cerca en esta visualización?\n"
   ]
  },
  {
   "cell_type": "code",
   "execution_count": 26,
   "metadata": {
    "colab": {
     "base_uri": "https://localhost:8080/",
     "height": 395
    },
    "id": "5g9lg799nMZa",
    "outputId": "e607c746-ae3c-4a36-892e-0fda110b566c"
   },
   "outputs": [
    {
     "data": {
      "image/png": "[encoded data removed]",
      "text/plain": [
       "<seaborn._core.plot.Plot at 0x7c59727e2110>"
      ]
     },
     "execution_count": 26,
     "metadata": {
      "image/png": {
       "height": 378.25,
       "width": 572.475
      }
     },
     "output_type": "execute_result"
    }
   ],
   "source": [
    "(\n",
    "    so.Plot(x = principalComponents[:,0], y = principalComponents[:,1], color=labels)\n",
    "    .add(so.Dot())\n",
    "    .label(title='Componentes principales TF-IDF', x= \"Z1\", y = \"Z2\")\n",
    "    # agregar nombre, prettify\n",
    ")"
   ]
  },
  {
   "cell_type": "markdown",
   "metadata": {
    "id": "aemZq3jto6iW"
   },
   "source": [
    "\n",
    "### Ejercicio 10. Identificación de temáticas.\n",
    "Queremos identificar las temáticas de algunos de estos clusters. Para esto pueden utilizar cualquier estrategia que consideren apropiada. Por ejemplo,\n",
    "- ver los títulos o contenidos de las noticias en algunos clusters.\n",
    "- si algunas de las componentes principales distingue clusters, ver qué palabras tienen peso en esa componente. Por ejemplo, si vemos que un cluster corresponde a noticias con coordenada $Z_1$ alta, analizamos en las coordenadas de la dirección principal correspondiente qué palabras tienen el mayor peso positivo.\n",
    "\n",
    "Algunos clusters pueden no tener una temática clara. Identificar temáticas en al menos 2 clusters del agrupamiento.\n"
   ]
  },
  {
   "cell_type": "markdown",
   "metadata": {
    "id": "7h0nKXfno5Qy"
   },
   "source": [
    "\n",
    "## Clasificación [4 pts.]\n"
   ]
  },
  {
   "cell_type": "markdown",
   "metadata": {
    "id": "lNWbzapgpL78"
   },
   "source": [
    "\n",
    "Trabajamos ahora con toda la base de datos. Queremos predecir la categoría de cada artículo según el contenido del texto. Nuevamente vamos a utilizar la métrica TD-IDF y suponer que noticias cercanas en esta métrica corresponden a noticias de temática similar.\n"
   ]
  },
  {
   "cell_type": "markdown",
   "metadata": {
    "id": "PjXwRtTGo4Y9"
   },
   "source": [
    "\n",
    "### Ejercicio 11.\n",
    "Generar un DataFrame `df_news_tfidf` que contenga una columna por cada stem que aparece en los contenidos de todas las noticias. Para cada noticia, cada columna indica el valor de TF-IDF (utilicen el mismo código de antes para generar este DataFrame).\n"
   ]
  },
  {
   "cell_type": "code",
   "execution_count": 26,
   "metadata": {},
   "outputs": [
    {
     "data": {
      "text/html": [
       "<div>\n",
       "<style scoped>\n",
       "    .dataframe tbody tr th:only-of-type {\n",
       "        vertical-align: middle;\n",
       "    }\n",
       "\n",
       "    .dataframe tbody tr th {\n",
       "        vertical-align: top;\n",
       "    }\n",
       "\n",
       "    .dataframe thead th {\n",
       "        text-align: right;\n",
       "    }\n",
       "</style>\n",
       "<table border=\"1\" class=\"dataframe\">\n",
       "  <thead>\n",
       "    <tr style=\"text-align: right;\">\n",
       "      <th></th>\n",
       "      <th>aa</th>\n",
       "      <th>aaa</th>\n",
       "      <th>aac</th>\n",
       "      <th>aadc</th>\n",
       "      <th>aaliyah</th>\n",
       "      <th>aaltra</th>\n",
       "      <th>aamir</th>\n",
       "      <th>aara</th>\n",
       "      <th>aarhus</th>\n",
       "      <th>aaron</th>\n",
       "      <th>...</th>\n",
       "      <th>zoom</th>\n",
       "      <th>zooropa</th>\n",
       "      <th>zornotza</th>\n",
       "      <th>zorro</th>\n",
       "      <th>zubair</th>\n",
       "      <th>zuluaga</th>\n",
       "      <th>zurich</th>\n",
       "      <th>zuton</th>\n",
       "      <th>zvonareva</th>\n",
       "      <th>zvyagintsev</th>\n",
       "    </tr>\n",
       "  </thead>\n",
       "  <tbody>\n",
       "    <tr>\n",
       "      <th>0</th>\n",
       "      <td>0</td>\n",
       "      <td>0</td>\n",
       "      <td>0</td>\n",
       "      <td>0</td>\n",
       "      <td>0</td>\n",
       "      <td>0</td>\n",
       "      <td>0</td>\n",
       "      <td>0</td>\n",
       "      <td>0</td>\n",
       "      <td>0</td>\n",
       "      <td>...</td>\n",
       "      <td>0</td>\n",
       "      <td>0</td>\n",
       "      <td>0</td>\n",
       "      <td>0</td>\n",
       "      <td>0</td>\n",
       "      <td>0</td>\n",
       "      <td>0</td>\n",
       "      <td>0</td>\n",
       "      <td>0</td>\n",
       "      <td>0</td>\n",
       "    </tr>\n",
       "    <tr>\n",
       "      <th>1</th>\n",
       "      <td>0</td>\n",
       "      <td>0</td>\n",
       "      <td>0</td>\n",
       "      <td>0</td>\n",
       "      <td>0</td>\n",
       "      <td>0</td>\n",
       "      <td>0</td>\n",
       "      <td>0</td>\n",
       "      <td>0</td>\n",
       "      <td>0</td>\n",
       "      <td>...</td>\n",
       "      <td>0</td>\n",
       "      <td>0</td>\n",
       "      <td>0</td>\n",
       "      <td>0</td>\n",
       "      <td>0</td>\n",
       "      <td>0</td>\n",
       "      <td>0</td>\n",
       "      <td>0</td>\n",
       "      <td>0</td>\n",
       "      <td>0</td>\n",
       "    </tr>\n",
       "    <tr>\n",
       "      <th>2</th>\n",
       "      <td>0</td>\n",
       "      <td>0</td>\n",
       "      <td>0</td>\n",
       "      <td>0</td>\n",
       "      <td>0</td>\n",
       "      <td>0</td>\n",
       "      <td>0</td>\n",
       "      <td>0</td>\n",
       "      <td>0</td>\n",
       "      <td>0</td>\n",
       "      <td>...</td>\n",
       "      <td>0</td>\n",
       "      <td>0</td>\n",
       "      <td>0</td>\n",
       "      <td>0</td>\n",
       "      <td>0</td>\n",
       "      <td>0</td>\n",
       "      <td>0</td>\n",
       "      <td>0</td>\n",
       "      <td>0</td>\n",
       "      <td>0</td>\n",
       "    </tr>\n",
       "    <tr>\n",
       "      <th>3</th>\n",
       "      <td>0</td>\n",
       "      <td>0</td>\n",
       "      <td>0</td>\n",
       "      <td>0</td>\n",
       "      <td>0</td>\n",
       "      <td>0</td>\n",
       "      <td>0</td>\n",
       "      <td>0</td>\n",
       "      <td>0</td>\n",
       "      <td>0</td>\n",
       "      <td>...</td>\n",
       "      <td>0</td>\n",
       "      <td>0</td>\n",
       "      <td>0</td>\n",
       "      <td>0</td>\n",
       "      <td>0</td>\n",
       "      <td>0</td>\n",
       "      <td>0</td>\n",
       "      <td>0</td>\n",
       "      <td>0</td>\n",
       "      <td>0</td>\n",
       "    </tr>\n",
       "    <tr>\n",
       "      <th>4</th>\n",
       "      <td>0</td>\n",
       "      <td>0</td>\n",
       "      <td>0</td>\n",
       "      <td>0</td>\n",
       "      <td>0</td>\n",
       "      <td>0</td>\n",
       "      <td>0</td>\n",
       "      <td>0</td>\n",
       "      <td>0</td>\n",
       "      <td>0</td>\n",
       "      <td>...</td>\n",
       "      <td>0</td>\n",
       "      <td>0</td>\n",
       "      <td>0</td>\n",
       "      <td>0</td>\n",
       "      <td>0</td>\n",
       "      <td>0</td>\n",
       "      <td>0</td>\n",
       "      <td>0</td>\n",
       "      <td>0</td>\n",
       "      <td>0</td>\n",
       "    </tr>\n",
       "  </tbody>\n",
       "</table>\n",
       "<p>5 rows × 18450 columns</p>\n",
       "</div>"
      ],
      "text/plain": [
       "   aa  aaa  aac  aadc  aaliyah  aaltra  aamir  aara  aarhus  aaron  ...  zoom  \\\n",
       "0   0    0    0     0        0       0      0     0       0      0  ...     0   \n",
       "1   0    0    0     0        0       0      0     0       0      0  ...     0   \n",
       "2   0    0    0     0        0       0      0     0       0      0  ...     0   \n",
       "3   0    0    0     0        0       0      0     0       0      0  ...     0   \n",
       "4   0    0    0     0        0       0      0     0       0      0  ...     0   \n",
       "\n",
       "   zooropa  zornotza  zorro  zubair  zuluaga  zurich  zuton  zvonareva  \\\n",
       "0        0         0      0       0        0       0      0          0   \n",
       "1        0         0      0       0        0       0      0          0   \n",
       "2        0         0      0       0        0       0      0          0   \n",
       "3        0         0      0       0        0       0      0          0   \n",
       "4        0         0      0       0        0       0      0          0   \n",
       "\n",
       "   zvyagintsev  \n",
       "0            0  \n",
       "1            0  \n",
       "2            0  \n",
       "3            0  \n",
       "4            0  \n",
       "\n",
       "[5 rows x 18450 columns]"
      ]
     },
     "execution_count": 26,
     "metadata": {},
     "output_type": "execute_result"
    }
   ],
   "source": [
    "X_news = vectorizer.fit_transform(df_news[\"content\"])\n",
    "\n",
    "df_news_tfidf = pd.DataFrame(X_news.toarray(), columns=vectorizer.get_feature_names_out())\n",
    "\n",
    "df_news_tfidf.head()"
   ]
  },
  {
   "cell_type": "markdown",
   "metadata": {
    "id": "6g_3qMVMo3Sn"
   },
   "source": [
    "\n",
    "### Ejercicio 12. Visualización.\n",
    "Calcular las dos primeras componentes principales $Z_1$ y $Z_2$ del DataFrame\n",
    "`df_news_tfidf` y realizar un gráfico de dispersión de $Z_1$ vs. $Z_2$, coloreando cada punto según la categoría del artículo.\n",
    "¿Quedan las noticias de cada categoría ubicadas cerca en esta visualización?\n"
   ]
  },
  {
   "cell_type": "code",
   "execution_count": 35,
   "metadata": {},
   "outputs": [
    {
     "data": {
      "image/png": "[encoded data removed]",
      "text/plain": [
       "<seaborn._core.plot.Plot at 0x2301cbf2600>"
      ]
     },
     "execution_count": 35,
     "metadata": {
      "image/png": {
       "height": 378.25,
       "width": 640.475
      }
     },
     "output_type": "execute_result"
    }
   ],
   "source": [
    "df_news_scaled_tfidf = StandardScaler().set_output(transform=\"pandas\").fit_transform(df_news_tfidf)\n",
    "\n",
    "pca = PCA(n_components=2)\n",
    "news_principalComponents = pca.fit_transform(df_news_scaled_tfidf)\n",
    "\n",
    "(\n",
    "    so.Plot(x = news_principalComponents[:,0], y = news_principalComponents[:,1], color=df_news['category'])\n",
    "    .add(so.Dot())\n",
    "    .label(title=\"PCA de news (TF–IDF): Z1 vs Z2\", x=\"Z1\", y=\"Z2\", color=\"Category\")\n",
    ")"
   ]
  },
  {
   "cell_type": "markdown",
   "metadata": {
    "id": "HA2VVsHbo2c4"
   },
   "source": [
    "\n",
    "### O2. (Opcional.)\n",
    "¿Qué palabras tienen peso positivo alto y peso negativo alto en estas dos compo-\n",
    "nentes?\n"
   ]
  },
  {
   "cell_type": "code",
   "execution_count": 36,
   "metadata": {},
   "outputs": [
    {
     "name": "stdout",
     "output_type": "stream",
     "text": [
      "Z1 ➞ palabra con peso negativo más alto: “decemb” (peso -0.003)\n",
      "Z1 ➞ palabra con peso positivo más alto: “henc” (peso 0.073)\n",
      "\n",
      "Z2 ➞ palabra con peso negativo más alto: “puppet” (peso -0.064)\n",
      "Z2 ➞ palabra con peso positivo más alto: “barbar” (peso 0.064)\n",
      "\n"
     ]
    }
   ],
   "source": [
    "feature_names = vectorizer.get_feature_names_out()\n",
    "\n",
    "components = pca.components_[:2]\n",
    "\n",
    "for i, comp in enumerate(components):\n",
    "    neg_idx = comp.argmin()   # índice de la carga más negativa\n",
    "    pos_idx = comp.argmax()   # índice de la carga más positiva\n",
    "    \n",
    "    print(f\"Z{i+1} ➞ palabra con peso negativo más alto: “{feature_names[neg_idx]}” (peso {comp[neg_idx]:.3f})\")\n",
    "    print(f\"Z{i+1} ➞ palabra con peso positivo más alto: “{feature_names[pos_idx]}” (peso {comp[pos_idx]:.3f})\\n\")\n"
   ]
  },
  {
   "cell_type": "markdown",
   "metadata": {
    "id": "Bw6ztfCro1a5"
   },
   "source": [
    "\n",
    "### Ejercicio 13.\n",
    "Predecir la categoría de cada artículo utilizando KNN. Para esto:\n",
    " 1. separar el conjunto total de datos en un 80% para entrenamiento y un 20% para testeo\n",
    " 2. seleccionar el valor de K (entre números impares del 1 al 19 ambos inclusive) por algún esquema de validación apropiado en el conjunto de entrenamiento (*train-validation*, *cross-validation*, *leave-one-out*),\n",
    " 3. para el valor hallado, calcular la precisión del método (porcentaje de aciertos) en el conjunto de testeo.\n"
   ]
  },
  {
   "cell_type": "code",
   "execution_count": 54,
   "metadata": {},
   "outputs": [],
   "source": [
    "#item 1\n",
    "\n",
    "X = df_news_tfidf\n",
    "y = df_news['category']\n",
    "\n",
    "X_train, X_test, y_train, y_test = train_test_split(X, y, test_size = 0.2, random_state=42)\n",
    "\n",
    "scaler = StandardScaler().set_output(transform=\"pandas\")\n",
    "X_train_scaled = scaler.fit_transform(X_train)\n",
    "X_test_scaled = scaler.transform(X_test)"
   ]
  },
  {
   "cell_type": "code",
   "execution_count": 50,
   "metadata": {},
   "outputs": [
    {
     "name": "stdout",
     "output_type": "stream",
     "text": [
      "1 0.3342696629213483\n",
      "3 0.3595505617977528\n",
      "5 0.3398876404494382\n",
      "7 0.300561797752809\n",
      "9 0.32303370786516855\n",
      "11 0.38202247191011235\n",
      "13 0.3342696629213483\n",
      "15 0.28370786516853935\n",
      "17 0.24719101123595505\n",
      "19 0.24719101123595505\n",
      "11 0.38202247191011235\n"
     ]
    }
   ],
   "source": [
    "#item 2\n",
    "\n",
    "X_train_aux, X_test_aux, y_train_aux, y_test_aux = train_test_split(X_train_scaled, y_train, test_size=0.2, random_state=42)\n",
    "\n",
    "best_k = 1\n",
    "best_accuracy = 0\n",
    "\n",
    "for K in range(1, 20, 2):\n",
    "    neighbor = KNeighborsClassifier(n_neighbors=K)\n",
    "    neighbor.fit(X_train_aux, y_train_aux)\n",
    "    y_pred = neighbor.predict(X_test_aux)\n",
    "    accuracy = accuracy_score(y_test_aux, y_pred)\n",
    "    print(K, accuracy_score(y_test_aux, y_pred))\n",
    "    \n",
    "    if accuracy > best_accuracy:\n",
    "        best_accuracy = accuracy\n",
    "        best_k = K\n",
    "\n",
    "\n",
    "print (best_k, best_accuracy)\n",
    "\n",
    "\n",
    "#for K in range(1,20,2):\n",
    "    #neighbor = KNeighborsClassifier(n_neighbors=K)\n",
    "    #neighbor.fit(X_train_scaled,y_train)\n",
    "    #y_pred = neighbor.predict(X_test_scaled)\n",
    "   \n",
    "    #print(K, accuracy_score(y_test,y_pred))\n"
   ]
  },
  {
   "cell_type": "code",
   "execution_count": 53,
   "metadata": {},
   "outputs": [
    {
     "name": "stdout",
     "output_type": "stream",
     "text": [
      "0.26292134831460673\n"
     ]
    }
   ],
   "source": [
    "#item 3\n",
    "\n",
    "knn = KNeighborsClassifier(n_neighbors=best_k)\n",
    "knn.fit(X_train_scaled, y_train)\n",
    "y_pred = knn.predict(X_test_scaled)\n",
    "\n",
    "print(accuracy_score(y_test, y_pred))"
   ]
  },
  {
   "cell_type": "markdown",
   "metadata": {
    "id": "1c6kOkHNo0dX"
   },
   "source": [
    "\n",
    "### O3. (Opcional.) Maldición de la dimensionalidad.\n",
    "Vimos que al utilizar muchas variables explicativas podemos caer en la maldición de la dimensionalidad. Una estrategia posible para evitar esto es usar las componentes principales para clasificación. ¿Cuántas componentes tenemos que tomar si queremos que esas componentes expliquen al menos un 10% de la varianza total? Definir un DataFrame $Z$ que contenga esas componentes y repetir el ejercicio anterior. ¿Mejoró la precisión del método?\n"
   ]
  },
  {
   "cell_type": "markdown",
   "metadata": {
    "id": "NyX8D8vvozWz"
   },
   "source": [
    "\n",
    "## Clasificación utilizando títulos de las noticias [2 pts.]\n"
   ]
  },
  {
   "cell_type": "markdown",
   "metadata": {
    "id": "vB8vNzSZpN0d"
   },
   "source": [
    "\n",
    "Hasta ahora utilizamos el contenido de las noticias para clasificar. En estas noticias los títulos son muy breves y resulta más difícil utilizarlos para clasificar.\n"
   ]
  },
  {
   "cell_type": "markdown",
   "metadata": {
    "id": "kqeDgbF1oye0"
   },
   "source": [
    "\n",
    "### Ejercicio 14.\n",
    "Generar un DataFrame `df_titles_tfidf` que contenga una columna por cada stem que aparece en los títulos de las noticias. Para cada noticia, cada columna indica el valor de TF-IDF.\n"
   ]
  },
  {
   "cell_type": "markdown",
   "metadata": {
    "id": "5MxxcW25ov07"
   },
   "source": [
    "\n",
    "### O4. (Opcional.) Aplicar KNN como en la sección anterior para clasificación de la categoría utilizando solo los títulos de las noticias. ¿Qué porcentaje de aciertos obtenemos?\n"
   ]
  },
  {
   "cell_type": "markdown",
   "metadata": {
    "id": "lfrhsAs3oxEI"
   },
   "source": [
    "\n",
    "Vamos a enfocarnos ahora en predecir correctamente qué artículos corresponden a la categoría de entretenimiento.\n"
   ]
  },
  {
   "cell_type": "markdown",
   "metadata": {
    "id": "M-Vkfjrcou9J"
   },
   "source": [
    "\n",
    "### Ejercicio 15.\n",
    "Definir una nueva serie entretenimiento que tome valor 1 si la categoría es entretenimiento y 0 si no. Aplicar KNN como en la sección anterior para clasificación de la categoría entrenimiento utilizando solo los títulos de las noticias (es decir, para predecir la variable entretenimiento). ¿Qué porcentaje de aciertos obtenemos?\n"
   ]
  },
  {
   "cell_type": "markdown",
   "metadata": {
    "id": "3RwpcYIJouOo"
   },
   "source": [
    "\n",
    "### Ejercicio 16.\n",
    "Proponer otro modelo de clasificación para predecir el valor de esta variable. Puede ser un modelo de regresión lineal, logística, red neuronal o cualquier otro modelo.\n"
   ]
  },
  {
   "cell_type": "markdown",
   "metadata": {
    "id": "DjmiY4AoosYp"
   },
   "source": [
    "\n",
    "### Ejercicio 17.\n",
    "Utilizando los mismos conjuntos de entrenamiento y testeo de la sección anterior, calcular los parámetros e hiperparámetros del modelo en el conjunto de entrenamiento y calcular el porcentaje de aciertos en el conjunto de testeo. Comparar con KNN. (No se preocupen si no obtienen un porcentaje mayor al de KNN, mientras sigan los pasos correctos para ajustar el modelo.)"
   ]
  },
  {
   "cell_type": "code",
   "execution_count": 13,
   "metadata": {
    "id": "mgs8IfD8GIl3"
   },
   "outputs": [],
   "source": []
  }
 ],
 "metadata": {
  "colab": {
   "include_colab_link": true,
   "provenance": []
  },
  "kernelspec": {
   "display_name": "Python 3 (ipykernel)",
   "language": "python",
   "name": "python3"
  },
  "language_info": {
   "codemirror_mode": {
    "name": "ipython",
    "version": 3
   },
   "file_extension": ".py",
   "mimetype": "text/x-python",
   "name": "python",
   "nbconvert_exporter": "python",
   "pygments_lexer": "ipython3",
   "version": "3.12.4"
  }
 },
 "nbformat": 4,
 "nbformat_minor": 4
}
